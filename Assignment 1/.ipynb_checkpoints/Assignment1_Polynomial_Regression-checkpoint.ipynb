{
 "cells": [
  {
   "cell_type": "markdown",
   "metadata": {
    "id": "nz_9QnWBj9_6"
   },
   "source": [
    "# Polynomial Regression Assignment (Please do not remove the output cells)"
   ]
  },
  {
   "cell_type": "markdown",
   "metadata": {
    "id": "oNtRAlw1uQYi"
   },
   "source": [
    "## The objective is to apply polynomial regression on the provided data using 3 regularization techniques"
   ]
  },
  {
   "cell_type": "markdown",
   "metadata": {
    "id": "0Sh_Oqa2j9_7"
   },
   "source": [
    "Tasks are defined below:\n",
    "1-  Read the dataset, and get acquainted with its features and labels. Check the link below for more details about the data.  \n",
    "https://archive.ics.uci.edu/ml/datasets/Air+Quality  \n",
    "\n",
    "2-  This dataset has 5 different output labels. For this assignment we only need the NO2 output. Please drop other outputs.  \n",
    "\n",
    "3-  Handle missing data similar to what was covered in tutorial 3.  \n",
    "\n",
    "4-  Replace the date feature with 3 separate features (Day, Month and Year).  \n",
    "\n",
    "5-  Replace the time feature with 3 separate features (Hours, Minutes and Seconds).  \n",
    "\n",
    "6-  Apply feature scaling.  \n",
    "\n",
    "7-  Evaluate different degrees of lasso CV polynomial regression.  \n",
    "\n",
    "8-  Choose the best degree and print the errors on the test data, model coefficients and the lasso parameters.  \n",
    "\n",
    "9-  Repeat steps 4 and 5 using Ridge CV polynomial regression.  \n",
    "\n",
    "10- Repeat steps 4 and 5 using ElasticNet CV polynomial regression.  \n",
    "\n",
    "11- Compare the errors from the 3 regularization techniques, and save the best model.  \n",
    "\n",
    "12- Load the best model and test it on a sample that you manually created it.  \n"
   ]
  },
  {
   "cell_type": "markdown",
   "metadata": {},
   "source": [
    "## Enter your IDs and Names below"
   ]
  },
  {
   "cell_type": "markdown",
   "metadata": {},
   "source": [
    "1-   \n",
    "  \n",
    "2-"
   ]
  },
  {
   "cell_type": "markdown",
   "metadata": {
    "id": "bsZFdAtSj9_8"
   },
   "source": [
    "\n",
    "### Imports"
   ]
  },
  {
   "cell_type": "code",
   "execution_count": 1,
   "metadata": {
    "id": "nuN2-J1bj9_9"
   },
   "outputs": [],
   "source": [
    "import numpy as np\n",
    "import pandas as pd\n",
    "import matplotlib.pyplot as plt\n",
    "import seaborn as sns"
   ]
  },
  {
   "cell_type": "markdown",
   "metadata": {
    "id": "hszifOuTj9__"
   },
   "source": [
    "### 1- Read the data"
   ]
  },
  {
   "cell_type": "code",
   "execution_count": 2,
   "metadata": {
    "id": "ZzX469qmUTu2"
   },
   "outputs": [],
   "source": [
    "df = pd.read_csv(\"AirQualityUCI.csv\")"
   ]
  },
  {
   "cell_type": "code",
   "execution_count": 3,
   "metadata": {},
   "outputs": [
    {
     "data": {
      "text/html": [
       "<div>\n",
       "<style scoped>\n",
       "    .dataframe tbody tr th:only-of-type {\n",
       "        vertical-align: middle;\n",
       "    }\n",
       "\n",
       "    .dataframe tbody tr th {\n",
       "        vertical-align: top;\n",
       "    }\n",
       "\n",
       "    .dataframe thead th {\n",
       "        text-align: right;\n",
       "    }\n",
       "</style>\n",
       "<table border=\"1\" class=\"dataframe\">\n",
       "  <thead>\n",
       "    <tr style=\"text-align: right;\">\n",
       "      <th></th>\n",
       "      <th>Date</th>\n",
       "      <th>Time</th>\n",
       "      <th>CO(GT)</th>\n",
       "      <th>PT08.S1(CO)</th>\n",
       "      <th>NMHC(GT)</th>\n",
       "      <th>C6H6(GT)</th>\n",
       "      <th>PT08.S2(NMHC)</th>\n",
       "      <th>NOx(GT)</th>\n",
       "      <th>PT08.S3(NOx)</th>\n",
       "      <th>NO2(GT)</th>\n",
       "      <th>PT08.S4(NO2)</th>\n",
       "      <th>PT08.S5(O3)</th>\n",
       "      <th>T</th>\n",
       "      <th>RH</th>\n",
       "      <th>AH</th>\n",
       "    </tr>\n",
       "  </thead>\n",
       "  <tbody>\n",
       "    <tr>\n",
       "      <th>0</th>\n",
       "      <td>3/10/2004</td>\n",
       "      <td>18:00:00</td>\n",
       "      <td>2.6</td>\n",
       "      <td>1360.0</td>\n",
       "      <td>150.0</td>\n",
       "      <td>11.9</td>\n",
       "      <td>1046.0</td>\n",
       "      <td>166.0</td>\n",
       "      <td>1056.0</td>\n",
       "      <td>113.0</td>\n",
       "      <td>1692.0</td>\n",
       "      <td>1268.0</td>\n",
       "      <td>13.6</td>\n",
       "      <td>48.9</td>\n",
       "      <td>0.7578</td>\n",
       "    </tr>\n",
       "    <tr>\n",
       "      <th>1</th>\n",
       "      <td>3/10/2004</td>\n",
       "      <td>19:00:00</td>\n",
       "      <td>2.0</td>\n",
       "      <td>1292.0</td>\n",
       "      <td>112.0</td>\n",
       "      <td>9.4</td>\n",
       "      <td>955.0</td>\n",
       "      <td>103.0</td>\n",
       "      <td>1174.0</td>\n",
       "      <td>92.0</td>\n",
       "      <td>1559.0</td>\n",
       "      <td>972.0</td>\n",
       "      <td>13.3</td>\n",
       "      <td>47.7</td>\n",
       "      <td>0.7255</td>\n",
       "    </tr>\n",
       "    <tr>\n",
       "      <th>2</th>\n",
       "      <td>3/10/2004</td>\n",
       "      <td>20:00:00</td>\n",
       "      <td>2.2</td>\n",
       "      <td>1402.0</td>\n",
       "      <td>88.0</td>\n",
       "      <td>9.0</td>\n",
       "      <td>939.0</td>\n",
       "      <td>131.0</td>\n",
       "      <td>1140.0</td>\n",
       "      <td>114.0</td>\n",
       "      <td>1555.0</td>\n",
       "      <td>1074.0</td>\n",
       "      <td>11.9</td>\n",
       "      <td>54.0</td>\n",
       "      <td>0.7502</td>\n",
       "    </tr>\n",
       "    <tr>\n",
       "      <th>3</th>\n",
       "      <td>3/10/2004</td>\n",
       "      <td>21:00:00</td>\n",
       "      <td>2.2</td>\n",
       "      <td>1376.0</td>\n",
       "      <td>80.0</td>\n",
       "      <td>9.2</td>\n",
       "      <td>948.0</td>\n",
       "      <td>172.0</td>\n",
       "      <td>1092.0</td>\n",
       "      <td>122.0</td>\n",
       "      <td>1584.0</td>\n",
       "      <td>1203.0</td>\n",
       "      <td>11.0</td>\n",
       "      <td>60.0</td>\n",
       "      <td>0.7867</td>\n",
       "    </tr>\n",
       "    <tr>\n",
       "      <th>4</th>\n",
       "      <td>3/10/2004</td>\n",
       "      <td>22:00:00</td>\n",
       "      <td>1.6</td>\n",
       "      <td>1272.0</td>\n",
       "      <td>51.0</td>\n",
       "      <td>6.5</td>\n",
       "      <td>836.0</td>\n",
       "      <td>131.0</td>\n",
       "      <td>1205.0</td>\n",
       "      <td>116.0</td>\n",
       "      <td>1490.0</td>\n",
       "      <td>1110.0</td>\n",
       "      <td>11.2</td>\n",
       "      <td>59.6</td>\n",
       "      <td>0.7888</td>\n",
       "    </tr>\n",
       "    <tr>\n",
       "      <th>5</th>\n",
       "      <td>3/10/2004</td>\n",
       "      <td>23:00:00</td>\n",
       "      <td>1.2</td>\n",
       "      <td>1197.0</td>\n",
       "      <td>38.0</td>\n",
       "      <td>4.7</td>\n",
       "      <td>750.0</td>\n",
       "      <td>89.0</td>\n",
       "      <td>1337.0</td>\n",
       "      <td>96.0</td>\n",
       "      <td>1393.0</td>\n",
       "      <td>949.0</td>\n",
       "      <td>11.2</td>\n",
       "      <td>59.2</td>\n",
       "      <td>0.7848</td>\n",
       "    </tr>\n",
       "    <tr>\n",
       "      <th>6</th>\n",
       "      <td>3/11/2004</td>\n",
       "      <td>0:00:00</td>\n",
       "      <td>1.2</td>\n",
       "      <td>1185.0</td>\n",
       "      <td>31.0</td>\n",
       "      <td>3.6</td>\n",
       "      <td>690.0</td>\n",
       "      <td>62.0</td>\n",
       "      <td>1462.0</td>\n",
       "      <td>77.0</td>\n",
       "      <td>1333.0</td>\n",
       "      <td>733.0</td>\n",
       "      <td>11.3</td>\n",
       "      <td>56.8</td>\n",
       "      <td>0.7603</td>\n",
       "    </tr>\n",
       "    <tr>\n",
       "      <th>7</th>\n",
       "      <td>3/11/2004</td>\n",
       "      <td>1:00:00</td>\n",
       "      <td>1.0</td>\n",
       "      <td>1136.0</td>\n",
       "      <td>31.0</td>\n",
       "      <td>3.3</td>\n",
       "      <td>672.0</td>\n",
       "      <td>62.0</td>\n",
       "      <td>1453.0</td>\n",
       "      <td>76.0</td>\n",
       "      <td>1333.0</td>\n",
       "      <td>730.0</td>\n",
       "      <td>10.7</td>\n",
       "      <td>60.0</td>\n",
       "      <td>0.7702</td>\n",
       "    </tr>\n",
       "    <tr>\n",
       "      <th>8</th>\n",
       "      <td>3/11/2004</td>\n",
       "      <td>2:00:00</td>\n",
       "      <td>0.9</td>\n",
       "      <td>1094.0</td>\n",
       "      <td>24.0</td>\n",
       "      <td>2.3</td>\n",
       "      <td>609.0</td>\n",
       "      <td>45.0</td>\n",
       "      <td>1579.0</td>\n",
       "      <td>60.0</td>\n",
       "      <td>1276.0</td>\n",
       "      <td>620.0</td>\n",
       "      <td>10.7</td>\n",
       "      <td>59.7</td>\n",
       "      <td>0.7648</td>\n",
       "    </tr>\n",
       "    <tr>\n",
       "      <th>9</th>\n",
       "      <td>3/11/2004</td>\n",
       "      <td>3:00:00</td>\n",
       "      <td>0.6</td>\n",
       "      <td>1010.0</td>\n",
       "      <td>19.0</td>\n",
       "      <td>1.7</td>\n",
       "      <td>561.0</td>\n",
       "      <td>NaN</td>\n",
       "      <td>1705.0</td>\n",
       "      <td>NaN</td>\n",
       "      <td>1235.0</td>\n",
       "      <td>501.0</td>\n",
       "      <td>10.3</td>\n",
       "      <td>60.2</td>\n",
       "      <td>0.7517</td>\n",
       "    </tr>\n",
       "  </tbody>\n",
       "</table>\n",
       "</div>"
      ],
      "text/plain": [
       "        Date      Time  CO(GT)  PT08.S1(CO)  NMHC(GT)  C6H6(GT)  \\\n",
       "0  3/10/2004  18:00:00     2.6       1360.0     150.0      11.9   \n",
       "1  3/10/2004  19:00:00     2.0       1292.0     112.0       9.4   \n",
       "2  3/10/2004  20:00:00     2.2       1402.0      88.0       9.0   \n",
       "3  3/10/2004  21:00:00     2.2       1376.0      80.0       9.2   \n",
       "4  3/10/2004  22:00:00     1.6       1272.0      51.0       6.5   \n",
       "5  3/10/2004  23:00:00     1.2       1197.0      38.0       4.7   \n",
       "6  3/11/2004   0:00:00     1.2       1185.0      31.0       3.6   \n",
       "7  3/11/2004   1:00:00     1.0       1136.0      31.0       3.3   \n",
       "8  3/11/2004   2:00:00     0.9       1094.0      24.0       2.3   \n",
       "9  3/11/2004   3:00:00     0.6       1010.0      19.0       1.7   \n",
       "\n",
       "   PT08.S2(NMHC)  NOx(GT)  PT08.S3(NOx)  NO2(GT)  PT08.S4(NO2)  PT08.S5(O3)  \\\n",
       "0         1046.0    166.0        1056.0    113.0        1692.0       1268.0   \n",
       "1          955.0    103.0        1174.0     92.0        1559.0        972.0   \n",
       "2          939.0    131.0        1140.0    114.0        1555.0       1074.0   \n",
       "3          948.0    172.0        1092.0    122.0        1584.0       1203.0   \n",
       "4          836.0    131.0        1205.0    116.0        1490.0       1110.0   \n",
       "5          750.0     89.0        1337.0     96.0        1393.0        949.0   \n",
       "6          690.0     62.0        1462.0     77.0        1333.0        733.0   \n",
       "7          672.0     62.0        1453.0     76.0        1333.0        730.0   \n",
       "8          609.0     45.0        1579.0     60.0        1276.0        620.0   \n",
       "9          561.0      NaN        1705.0      NaN        1235.0        501.0   \n",
       "\n",
       "      T    RH      AH  \n",
       "0  13.6  48.9  0.7578  \n",
       "1  13.3  47.7  0.7255  \n",
       "2  11.9  54.0  0.7502  \n",
       "3  11.0  60.0  0.7867  \n",
       "4  11.2  59.6  0.7888  \n",
       "5  11.2  59.2  0.7848  \n",
       "6  11.3  56.8  0.7603  \n",
       "7  10.7  60.0  0.7702  \n",
       "8  10.7  59.7  0.7648  \n",
       "9  10.3  60.2  0.7517  "
      ]
     },
     "execution_count": 3,
     "metadata": {},
     "output_type": "execute_result"
    }
   ],
   "source": [
    "df.head(10)"
   ]
  },
  {
   "cell_type": "code",
   "execution_count": 4,
   "metadata": {},
   "outputs": [
    {
     "name": "stdout",
     "output_type": "stream",
     "text": [
      "<class 'pandas.core.frame.DataFrame'>\n",
      "RangeIndex: 9357 entries, 0 to 9356\n",
      "Data columns (total 15 columns):\n",
      " #   Column         Non-Null Count  Dtype  \n",
      "---  ------         --------------  -----  \n",
      " 0   Date           9357 non-null   object \n",
      " 1   Time           9357 non-null   object \n",
      " 2   CO(GT)         7674 non-null   float64\n",
      " 3   PT08.S1(CO)    8991 non-null   float64\n",
      " 4   NMHC(GT)       914 non-null    float64\n",
      " 5   C6H6(GT)       8991 non-null   float64\n",
      " 6   PT08.S2(NMHC)  8991 non-null   float64\n",
      " 7   NOx(GT)        7718 non-null   float64\n",
      " 8   PT08.S3(NOx)   8991 non-null   float64\n",
      " 9   NO2(GT)        7715 non-null   float64\n",
      " 10  PT08.S4(NO2)   8991 non-null   float64\n",
      " 11  PT08.S5(O3)    8991 non-null   float64\n",
      " 12  T              8991 non-null   float64\n",
      " 13  RH             8991 non-null   float64\n",
      " 14  AH             8991 non-null   float64\n",
      "dtypes: float64(13), object(2)\n",
      "memory usage: 1.1+ MB\n"
     ]
    }
   ],
   "source": [
    "df.info()"
   ]
  },
  {
   "cell_type": "markdown",
   "metadata": {
    "id": "TMHFhOfXuQYl"
   },
   "source": [
    "### 2- Drop unwanted labels"
   ]
  },
  {
   "cell_type": "markdown",
   "metadata": {},
   "source": [
    "Here, we will drop the other four outputs"
   ]
  },
  {
   "cell_type": "code",
   "execution_count": 5,
   "metadata": {
    "id": "L7395CTWuQYm"
   },
   "outputs": [],
   "source": [
    "df = df.drop(['CO(GT)','NMHC(GT)','C6H6(GT)','NOx(GT)'],axis=1)"
   ]
  },
  {
   "cell_type": "code",
   "execution_count": 6,
   "metadata": {},
   "outputs": [
    {
     "data": {
      "text/plain": [
       "11"
      ]
     },
     "execution_count": 6,
     "metadata": {},
     "output_type": "execute_result"
    }
   ],
   "source": [
    "len(df.columns)"
   ]
  },
  {
   "cell_type": "code",
   "execution_count": 7,
   "metadata": {},
   "outputs": [
    {
     "data": {
      "text/html": [
       "<div>\n",
       "<style scoped>\n",
       "    .dataframe tbody tr th:only-of-type {\n",
       "        vertical-align: middle;\n",
       "    }\n",
       "\n",
       "    .dataframe tbody tr th {\n",
       "        vertical-align: top;\n",
       "    }\n",
       "\n",
       "    .dataframe thead th {\n",
       "        text-align: right;\n",
       "    }\n",
       "</style>\n",
       "<table border=\"1\" class=\"dataframe\">\n",
       "  <thead>\n",
       "    <tr style=\"text-align: right;\">\n",
       "      <th></th>\n",
       "      <th>Date</th>\n",
       "      <th>Time</th>\n",
       "      <th>PT08.S1(CO)</th>\n",
       "      <th>PT08.S2(NMHC)</th>\n",
       "      <th>PT08.S3(NOx)</th>\n",
       "      <th>NO2(GT)</th>\n",
       "      <th>PT08.S4(NO2)</th>\n",
       "      <th>PT08.S5(O3)</th>\n",
       "      <th>T</th>\n",
       "      <th>RH</th>\n",
       "      <th>AH</th>\n",
       "    </tr>\n",
       "  </thead>\n",
       "  <tbody>\n",
       "    <tr>\n",
       "      <th>0</th>\n",
       "      <td>3/10/2004</td>\n",
       "      <td>18:00:00</td>\n",
       "      <td>1360.0</td>\n",
       "      <td>1046.0</td>\n",
       "      <td>1056.0</td>\n",
       "      <td>113.0</td>\n",
       "      <td>1692.0</td>\n",
       "      <td>1268.0</td>\n",
       "      <td>13.6</td>\n",
       "      <td>48.9</td>\n",
       "      <td>0.7578</td>\n",
       "    </tr>\n",
       "    <tr>\n",
       "      <th>1</th>\n",
       "      <td>3/10/2004</td>\n",
       "      <td>19:00:00</td>\n",
       "      <td>1292.0</td>\n",
       "      <td>955.0</td>\n",
       "      <td>1174.0</td>\n",
       "      <td>92.0</td>\n",
       "      <td>1559.0</td>\n",
       "      <td>972.0</td>\n",
       "      <td>13.3</td>\n",
       "      <td>47.7</td>\n",
       "      <td>0.7255</td>\n",
       "    </tr>\n",
       "    <tr>\n",
       "      <th>2</th>\n",
       "      <td>3/10/2004</td>\n",
       "      <td>20:00:00</td>\n",
       "      <td>1402.0</td>\n",
       "      <td>939.0</td>\n",
       "      <td>1140.0</td>\n",
       "      <td>114.0</td>\n",
       "      <td>1555.0</td>\n",
       "      <td>1074.0</td>\n",
       "      <td>11.9</td>\n",
       "      <td>54.0</td>\n",
       "      <td>0.7502</td>\n",
       "    </tr>\n",
       "    <tr>\n",
       "      <th>3</th>\n",
       "      <td>3/10/2004</td>\n",
       "      <td>21:00:00</td>\n",
       "      <td>1376.0</td>\n",
       "      <td>948.0</td>\n",
       "      <td>1092.0</td>\n",
       "      <td>122.0</td>\n",
       "      <td>1584.0</td>\n",
       "      <td>1203.0</td>\n",
       "      <td>11.0</td>\n",
       "      <td>60.0</td>\n",
       "      <td>0.7867</td>\n",
       "    </tr>\n",
       "    <tr>\n",
       "      <th>4</th>\n",
       "      <td>3/10/2004</td>\n",
       "      <td>22:00:00</td>\n",
       "      <td>1272.0</td>\n",
       "      <td>836.0</td>\n",
       "      <td>1205.0</td>\n",
       "      <td>116.0</td>\n",
       "      <td>1490.0</td>\n",
       "      <td>1110.0</td>\n",
       "      <td>11.2</td>\n",
       "      <td>59.6</td>\n",
       "      <td>0.7888</td>\n",
       "    </tr>\n",
       "  </tbody>\n",
       "</table>\n",
       "</div>"
      ],
      "text/plain": [
       "        Date      Time  PT08.S1(CO)  PT08.S2(NMHC)  PT08.S3(NOx)  NO2(GT)  \\\n",
       "0  3/10/2004  18:00:00       1360.0         1046.0        1056.0    113.0   \n",
       "1  3/10/2004  19:00:00       1292.0          955.0        1174.0     92.0   \n",
       "2  3/10/2004  20:00:00       1402.0          939.0        1140.0    114.0   \n",
       "3  3/10/2004  21:00:00       1376.0          948.0        1092.0    122.0   \n",
       "4  3/10/2004  22:00:00       1272.0          836.0        1205.0    116.0   \n",
       "\n",
       "   PT08.S4(NO2)  PT08.S5(O3)     T    RH      AH  \n",
       "0        1692.0       1268.0  13.6  48.9  0.7578  \n",
       "1        1559.0        972.0  13.3  47.7  0.7255  \n",
       "2        1555.0       1074.0  11.9  54.0  0.7502  \n",
       "3        1584.0       1203.0  11.0  60.0  0.7867  \n",
       "4        1490.0       1110.0  11.2  59.6  0.7888  "
      ]
     },
     "execution_count": 7,
     "metadata": {},
     "output_type": "execute_result"
    }
   ],
   "source": [
    "df.head()"
   ]
  },
  {
   "cell_type": "markdown",
   "metadata": {
    "id": "rMSYDzn1uQYm"
   },
   "source": [
    "### 3- Handle missing data"
   ]
  },
  {
   "cell_type": "code",
   "execution_count": 8,
   "metadata": {
    "id": "FEai7yH9uQYn"
   },
   "outputs": [
    {
     "data": {
      "text/html": [
       "<div>\n",
       "<style scoped>\n",
       "    .dataframe tbody tr th:only-of-type {\n",
       "        vertical-align: middle;\n",
       "    }\n",
       "\n",
       "    .dataframe tbody tr th {\n",
       "        vertical-align: top;\n",
       "    }\n",
       "\n",
       "    .dataframe thead th {\n",
       "        text-align: right;\n",
       "    }\n",
       "</style>\n",
       "<table border=\"1\" class=\"dataframe\">\n",
       "  <thead>\n",
       "    <tr style=\"text-align: right;\">\n",
       "      <th></th>\n",
       "      <th>Date</th>\n",
       "      <th>Time</th>\n",
       "      <th>PT08.S1(CO)</th>\n",
       "      <th>PT08.S2(NMHC)</th>\n",
       "      <th>PT08.S3(NOx)</th>\n",
       "      <th>NO2(GT)</th>\n",
       "      <th>PT08.S4(NO2)</th>\n",
       "      <th>PT08.S5(O3)</th>\n",
       "      <th>T</th>\n",
       "      <th>RH</th>\n",
       "      <th>AH</th>\n",
       "    </tr>\n",
       "  </thead>\n",
       "  <tbody>\n",
       "    <tr>\n",
       "      <th>0</th>\n",
       "      <td>False</td>\n",
       "      <td>False</td>\n",
       "      <td>False</td>\n",
       "      <td>False</td>\n",
       "      <td>False</td>\n",
       "      <td>False</td>\n",
       "      <td>False</td>\n",
       "      <td>False</td>\n",
       "      <td>False</td>\n",
       "      <td>False</td>\n",
       "      <td>False</td>\n",
       "    </tr>\n",
       "    <tr>\n",
       "      <th>1</th>\n",
       "      <td>False</td>\n",
       "      <td>False</td>\n",
       "      <td>False</td>\n",
       "      <td>False</td>\n",
       "      <td>False</td>\n",
       "      <td>False</td>\n",
       "      <td>False</td>\n",
       "      <td>False</td>\n",
       "      <td>False</td>\n",
       "      <td>False</td>\n",
       "      <td>False</td>\n",
       "    </tr>\n",
       "    <tr>\n",
       "      <th>2</th>\n",
       "      <td>False</td>\n",
       "      <td>False</td>\n",
       "      <td>False</td>\n",
       "      <td>False</td>\n",
       "      <td>False</td>\n",
       "      <td>False</td>\n",
       "      <td>False</td>\n",
       "      <td>False</td>\n",
       "      <td>False</td>\n",
       "      <td>False</td>\n",
       "      <td>False</td>\n",
       "    </tr>\n",
       "    <tr>\n",
       "      <th>3</th>\n",
       "      <td>False</td>\n",
       "      <td>False</td>\n",
       "      <td>False</td>\n",
       "      <td>False</td>\n",
       "      <td>False</td>\n",
       "      <td>False</td>\n",
       "      <td>False</td>\n",
       "      <td>False</td>\n",
       "      <td>False</td>\n",
       "      <td>False</td>\n",
       "      <td>False</td>\n",
       "    </tr>\n",
       "    <tr>\n",
       "      <th>4</th>\n",
       "      <td>False</td>\n",
       "      <td>False</td>\n",
       "      <td>False</td>\n",
       "      <td>False</td>\n",
       "      <td>False</td>\n",
       "      <td>False</td>\n",
       "      <td>False</td>\n",
       "      <td>False</td>\n",
       "      <td>False</td>\n",
       "      <td>False</td>\n",
       "      <td>False</td>\n",
       "    </tr>\n",
       "    <tr>\n",
       "      <th>...</th>\n",
       "      <td>...</td>\n",
       "      <td>...</td>\n",
       "      <td>...</td>\n",
       "      <td>...</td>\n",
       "      <td>...</td>\n",
       "      <td>...</td>\n",
       "      <td>...</td>\n",
       "      <td>...</td>\n",
       "      <td>...</td>\n",
       "      <td>...</td>\n",
       "      <td>...</td>\n",
       "    </tr>\n",
       "    <tr>\n",
       "      <th>9352</th>\n",
       "      <td>False</td>\n",
       "      <td>False</td>\n",
       "      <td>False</td>\n",
       "      <td>False</td>\n",
       "      <td>False</td>\n",
       "      <td>False</td>\n",
       "      <td>False</td>\n",
       "      <td>False</td>\n",
       "      <td>False</td>\n",
       "      <td>False</td>\n",
       "      <td>False</td>\n",
       "    </tr>\n",
       "    <tr>\n",
       "      <th>9353</th>\n",
       "      <td>False</td>\n",
       "      <td>False</td>\n",
       "      <td>False</td>\n",
       "      <td>False</td>\n",
       "      <td>False</td>\n",
       "      <td>False</td>\n",
       "      <td>False</td>\n",
       "      <td>False</td>\n",
       "      <td>False</td>\n",
       "      <td>False</td>\n",
       "      <td>False</td>\n",
       "    </tr>\n",
       "    <tr>\n",
       "      <th>9354</th>\n",
       "      <td>False</td>\n",
       "      <td>False</td>\n",
       "      <td>False</td>\n",
       "      <td>False</td>\n",
       "      <td>False</td>\n",
       "      <td>False</td>\n",
       "      <td>False</td>\n",
       "      <td>False</td>\n",
       "      <td>False</td>\n",
       "      <td>False</td>\n",
       "      <td>False</td>\n",
       "    </tr>\n",
       "    <tr>\n",
       "      <th>9355</th>\n",
       "      <td>False</td>\n",
       "      <td>False</td>\n",
       "      <td>False</td>\n",
       "      <td>False</td>\n",
       "      <td>False</td>\n",
       "      <td>False</td>\n",
       "      <td>False</td>\n",
       "      <td>False</td>\n",
       "      <td>False</td>\n",
       "      <td>False</td>\n",
       "      <td>False</td>\n",
       "    </tr>\n",
       "    <tr>\n",
       "      <th>9356</th>\n",
       "      <td>False</td>\n",
       "      <td>False</td>\n",
       "      <td>False</td>\n",
       "      <td>False</td>\n",
       "      <td>False</td>\n",
       "      <td>False</td>\n",
       "      <td>False</td>\n",
       "      <td>False</td>\n",
       "      <td>False</td>\n",
       "      <td>False</td>\n",
       "      <td>False</td>\n",
       "    </tr>\n",
       "  </tbody>\n",
       "</table>\n",
       "<p>9357 rows × 11 columns</p>\n",
       "</div>"
      ],
      "text/plain": [
       "       Date   Time  PT08.S1(CO)  PT08.S2(NMHC)  PT08.S3(NOx)  NO2(GT)  \\\n",
       "0     False  False        False          False         False    False   \n",
       "1     False  False        False          False         False    False   \n",
       "2     False  False        False          False         False    False   \n",
       "3     False  False        False          False         False    False   \n",
       "4     False  False        False          False         False    False   \n",
       "...     ...    ...          ...            ...           ...      ...   \n",
       "9352  False  False        False          False         False    False   \n",
       "9353  False  False        False          False         False    False   \n",
       "9354  False  False        False          False         False    False   \n",
       "9355  False  False        False          False         False    False   \n",
       "9356  False  False        False          False         False    False   \n",
       "\n",
       "      PT08.S4(NO2)  PT08.S5(O3)      T     RH     AH  \n",
       "0            False        False  False  False  False  \n",
       "1            False        False  False  False  False  \n",
       "2            False        False  False  False  False  \n",
       "3            False        False  False  False  False  \n",
       "4            False        False  False  False  False  \n",
       "...            ...          ...    ...    ...    ...  \n",
       "9352         False        False  False  False  False  \n",
       "9353         False        False  False  False  False  \n",
       "9354         False        False  False  False  False  \n",
       "9355         False        False  False  False  False  \n",
       "9356         False        False  False  False  False  \n",
       "\n",
       "[9357 rows x 11 columns]"
      ]
     },
     "execution_count": 8,
     "metadata": {},
     "output_type": "execute_result"
    }
   ],
   "source": [
    "df.isnull()"
   ]
  },
  {
   "cell_type": "code",
   "execution_count": 9,
   "metadata": {},
   "outputs": [
    {
     "data": {
      "text/plain": [
       "Date                0\n",
       "Time                0\n",
       "PT08.S1(CO)       366\n",
       "PT08.S2(NMHC)     366\n",
       "PT08.S3(NOx)      366\n",
       "NO2(GT)          1642\n",
       "PT08.S4(NO2)      366\n",
       "PT08.S5(O3)       366\n",
       "T                 366\n",
       "RH                366\n",
       "AH                366\n",
       "dtype: int64"
      ]
     },
     "execution_count": 9,
     "metadata": {},
     "output_type": "execute_result"
    }
   ],
   "source": [
    "df.isnull().sum()"
   ]
  },
  {
   "cell_type": "markdown",
   "metadata": {},
   "source": [
    "As we can see, there is a huge number of missing values in the output column, and a little number in other columns"
   ]
  },
  {
   "cell_type": "code",
   "execution_count": 10,
   "metadata": {},
   "outputs": [],
   "source": [
    "def percent_missing(df):\n",
    "    percent_nan = 100* df.isnull().sum() / len(df)\n",
    "    percent_nan = percent_nan[percent_nan>0].sort_values()\n",
    "    return percent_nan"
   ]
  },
  {
   "cell_type": "code",
   "execution_count": 11,
   "metadata": {},
   "outputs": [],
   "source": [
    "def plot_missing_percentage(percent_nan):\n",
    "    if(len(percent_nan) != 0):\n",
    "        sns.barplot(x=percent_nan.index,y=percent_nan)\n",
    "        plt.xticks(rotation=90);"
   ]
  },
  {
   "cell_type": "code",
   "execution_count": 12,
   "metadata": {},
   "outputs": [
    {
     "data": {
      "text/plain": [
       "PT08.S1(CO)       3.91151\n",
       "PT08.S2(NMHC)     3.91151\n",
       "PT08.S3(NOx)      3.91151\n",
       "PT08.S4(NO2)      3.91151\n",
       "PT08.S5(O3)       3.91151\n",
       "T                 3.91151\n",
       "RH                3.91151\n",
       "AH                3.91151\n",
       "NO2(GT)          17.54836\n",
       "dtype: float64"
      ]
     },
     "execution_count": 12,
     "metadata": {},
     "output_type": "execute_result"
    }
   ],
   "source": [
    "percent_nan = percent_missing(df)\n",
    "percent_nan"
   ]
  },
  {
   "cell_type": "code",
   "execution_count": 13,
   "metadata": {},
   "outputs": [
    {
     "data": {
      "image/png": "[encoded data removed]",
      "text/plain": [
       "<Figure size 432x288 with 1 Axes>"
      ]
     },
     "metadata": {
      "needs_background": "light"
     },
     "output_type": "display_data"
    }
   ],
   "source": [
    "plot_missing_percentage(percent_nan)"
   ]
  },
  {
   "cell_type": "markdown",
   "metadata": {},
   "source": [
    "As we saw, 17.5% of the output label is missed, and 3.9% from the other columns\n",
    "let's deal first with the input columns"
   ]
  },
  {
   "cell_type": "markdown",
   "metadata": {},
   "source": [
    "Let's remove first the rows that has missing cells in all input features, \n",
    "and then see how this will reduce the percentage of the missing values"
   ]
  },
  {
   "cell_type": "code",
   "execution_count": 14,
   "metadata": {},
   "outputs": [],
   "source": [
    "#here we loop over each raw, and if the raw has missing value in all input features,\n",
    "#then drop this row\n",
    "nulls = []\n",
    "for index, row in df.iterrows():\n",
    "    if(pd.isnull(row[\"PT08.S1(CO)\"]) and pd.isnull(row[\"PT08.S2(NMHC)\"]) and pd.isnull(row[\"PT08.S3(NOx)\"]) and\n",
    "       pd.isnull(row[\"PT08.S4(NO2)\"]) and pd.isnull(row[\"PT08.S5(O3)\"]) and pd.isnull(row[\"T\"]) and \n",
    "       pd.isnull(row[\"RH\"]) and pd.isnull(row[\"AH\"])):\n",
    "        nulls.append(index)\n",
    "        df = df.drop(labels=index, axis=0)\n",
    "        #print(nulls.append(index))"
   ]
  },
  {
   "cell_type": "code",
   "execution_count": 15,
   "metadata": {},
   "outputs": [
    {
     "data": {
      "text/plain": [
       "Date                0\n",
       "Time                0\n",
       "PT08.S1(CO)         0\n",
       "PT08.S2(NMHC)       0\n",
       "PT08.S3(NOx)        0\n",
       "NO2(GT)          1598\n",
       "PT08.S4(NO2)        0\n",
       "PT08.S5(O3)         0\n",
       "T                   0\n",
       "RH                  0\n",
       "AH                  0\n",
       "dtype: int64"
      ]
     },
     "execution_count": 15,
     "metadata": {},
     "output_type": "execute_result"
    }
   ],
   "source": [
    "df.isnull().sum()"
   ]
  },
  {
   "cell_type": "markdown",
   "metadata": {},
   "source": [
    "As we expected, there are a huge number of raws that need to be dropped"
   ]
  },
  {
   "cell_type": "markdown",
   "metadata": {},
   "source": [
    "Now let's deal with output column, we have more than one options to deal with the missing values, \n",
    "but we will choose the simplest one which is to drop these raws that\n",
    "has missing values in the output column"
   ]
  },
  {
   "cell_type": "code",
   "execution_count": 16,
   "metadata": {},
   "outputs": [],
   "source": [
    "for index, row in df.iterrows():\n",
    "    if(pd.isnull(row[\"NO2(GT)\"])):\n",
    "        df = df.drop(labels=index, axis=0)"
   ]
  },
  {
   "cell_type": "code",
   "execution_count": 17,
   "metadata": {},
   "outputs": [
    {
     "data": {
      "text/plain": [
       "Date             0\n",
       "Time             0\n",
       "PT08.S1(CO)      0\n",
       "PT08.S2(NMHC)    0\n",
       "PT08.S3(NOx)     0\n",
       "NO2(GT)          0\n",
       "PT08.S4(NO2)     0\n",
       "PT08.S5(O3)      0\n",
       "T                0\n",
       "RH               0\n",
       "AH               0\n",
       "dtype: int64"
      ]
     },
     "execution_count": 17,
     "metadata": {},
     "output_type": "execute_result"
    }
   ],
   "source": [
    "df.isnull().sum()"
   ]
  },
  {
   "cell_type": "markdown",
   "metadata": {
    "id": "v7vinFJmuQYn"
   },
   "source": [
    "### 4- Replace date feature"
   ]
  },
  {
   "cell_type": "code",
   "execution_count": 18,
   "metadata": {},
   "outputs": [],
   "source": [
    "def replace_date_feature(df):\n",
    "    df[['Day','Month','Year']] = df['Date'].str.split('/',expand =True)\n",
    "    df = df.drop('Date', axis = 1)\n",
    "    return df"
   ]
  },
  {
   "cell_type": "code",
   "execution_count": 19,
   "metadata": {},
   "outputs": [
    {
     "data": {
      "text/html": [
       "<div>\n",
       "<style scoped>\n",
       "    .dataframe tbody tr th:only-of-type {\n",
       "        vertical-align: middle;\n",
       "    }\n",
       "\n",
       "    .dataframe tbody tr th {\n",
       "        vertical-align: top;\n",
       "    }\n",
       "\n",
       "    .dataframe thead th {\n",
       "        text-align: right;\n",
       "    }\n",
       "</style>\n",
       "<table border=\"1\" class=\"dataframe\">\n",
       "  <thead>\n",
       "    <tr style=\"text-align: right;\">\n",
       "      <th></th>\n",
       "      <th>Time</th>\n",
       "      <th>PT08.S1(CO)</th>\n",
       "      <th>PT08.S2(NMHC)</th>\n",
       "      <th>PT08.S3(NOx)</th>\n",
       "      <th>NO2(GT)</th>\n",
       "      <th>PT08.S4(NO2)</th>\n",
       "      <th>PT08.S5(O3)</th>\n",
       "      <th>T</th>\n",
       "      <th>RH</th>\n",
       "      <th>AH</th>\n",
       "      <th>Day</th>\n",
       "      <th>Month</th>\n",
       "      <th>Year</th>\n",
       "    </tr>\n",
       "  </thead>\n",
       "  <tbody>\n",
       "    <tr>\n",
       "      <th>0</th>\n",
       "      <td>18:00:00</td>\n",
       "      <td>1360.0</td>\n",
       "      <td>1046.0</td>\n",
       "      <td>1056.0</td>\n",
       "      <td>113.0</td>\n",
       "      <td>1692.0</td>\n",
       "      <td>1268.0</td>\n",
       "      <td>13.6</td>\n",
       "      <td>48.9</td>\n",
       "      <td>0.7578</td>\n",
       "      <td>3</td>\n",
       "      <td>10</td>\n",
       "      <td>2004</td>\n",
       "    </tr>\n",
       "    <tr>\n",
       "      <th>1</th>\n",
       "      <td>19:00:00</td>\n",
       "      <td>1292.0</td>\n",
       "      <td>955.0</td>\n",
       "      <td>1174.0</td>\n",
       "      <td>92.0</td>\n",
       "      <td>1559.0</td>\n",
       "      <td>972.0</td>\n",
       "      <td>13.3</td>\n",
       "      <td>47.7</td>\n",
       "      <td>0.7255</td>\n",
       "      <td>3</td>\n",
       "      <td>10</td>\n",
       "      <td>2004</td>\n",
       "    </tr>\n",
       "    <tr>\n",
       "      <th>2</th>\n",
       "      <td>20:00:00</td>\n",
       "      <td>1402.0</td>\n",
       "      <td>939.0</td>\n",
       "      <td>1140.0</td>\n",
       "      <td>114.0</td>\n",
       "      <td>1555.0</td>\n",
       "      <td>1074.0</td>\n",
       "      <td>11.9</td>\n",
       "      <td>54.0</td>\n",
       "      <td>0.7502</td>\n",
       "      <td>3</td>\n",
       "      <td>10</td>\n",
       "      <td>2004</td>\n",
       "    </tr>\n",
       "    <tr>\n",
       "      <th>3</th>\n",
       "      <td>21:00:00</td>\n",
       "      <td>1376.0</td>\n",
       "      <td>948.0</td>\n",
       "      <td>1092.0</td>\n",
       "      <td>122.0</td>\n",
       "      <td>1584.0</td>\n",
       "      <td>1203.0</td>\n",
       "      <td>11.0</td>\n",
       "      <td>60.0</td>\n",
       "      <td>0.7867</td>\n",
       "      <td>3</td>\n",
       "      <td>10</td>\n",
       "      <td>2004</td>\n",
       "    </tr>\n",
       "    <tr>\n",
       "      <th>4</th>\n",
       "      <td>22:00:00</td>\n",
       "      <td>1272.0</td>\n",
       "      <td>836.0</td>\n",
       "      <td>1205.0</td>\n",
       "      <td>116.0</td>\n",
       "      <td>1490.0</td>\n",
       "      <td>1110.0</td>\n",
       "      <td>11.2</td>\n",
       "      <td>59.6</td>\n",
       "      <td>0.7888</td>\n",
       "      <td>3</td>\n",
       "      <td>10</td>\n",
       "      <td>2004</td>\n",
       "    </tr>\n",
       "    <tr>\n",
       "      <th>...</th>\n",
       "      <td>...</td>\n",
       "      <td>...</td>\n",
       "      <td>...</td>\n",
       "      <td>...</td>\n",
       "      <td>...</td>\n",
       "      <td>...</td>\n",
       "      <td>...</td>\n",
       "      <td>...</td>\n",
       "      <td>...</td>\n",
       "      <td>...</td>\n",
       "      <td>...</td>\n",
       "      <td>...</td>\n",
       "      <td>...</td>\n",
       "    </tr>\n",
       "    <tr>\n",
       "      <th>9352</th>\n",
       "      <td>10:00:00</td>\n",
       "      <td>1314.0</td>\n",
       "      <td>1101.0</td>\n",
       "      <td>539.0</td>\n",
       "      <td>190.0</td>\n",
       "      <td>1374.0</td>\n",
       "      <td>1729.0</td>\n",
       "      <td>21.9</td>\n",
       "      <td>29.3</td>\n",
       "      <td>0.7568</td>\n",
       "      <td>4</td>\n",
       "      <td>4</td>\n",
       "      <td>2005</td>\n",
       "    </tr>\n",
       "    <tr>\n",
       "      <th>9353</th>\n",
       "      <td>11:00:00</td>\n",
       "      <td>1163.0</td>\n",
       "      <td>1027.0</td>\n",
       "      <td>604.0</td>\n",
       "      <td>179.0</td>\n",
       "      <td>1264.0</td>\n",
       "      <td>1269.0</td>\n",
       "      <td>24.3</td>\n",
       "      <td>23.7</td>\n",
       "      <td>0.7119</td>\n",
       "      <td>4</td>\n",
       "      <td>4</td>\n",
       "      <td>2005</td>\n",
       "    </tr>\n",
       "    <tr>\n",
       "      <th>9354</th>\n",
       "      <td>12:00:00</td>\n",
       "      <td>1142.0</td>\n",
       "      <td>1063.0</td>\n",
       "      <td>603.0</td>\n",
       "      <td>175.0</td>\n",
       "      <td>1241.0</td>\n",
       "      <td>1092.0</td>\n",
       "      <td>26.9</td>\n",
       "      <td>18.3</td>\n",
       "      <td>0.6406</td>\n",
       "      <td>4</td>\n",
       "      <td>4</td>\n",
       "      <td>2005</td>\n",
       "    </tr>\n",
       "    <tr>\n",
       "      <th>9355</th>\n",
       "      <td>13:00:00</td>\n",
       "      <td>1003.0</td>\n",
       "      <td>961.0</td>\n",
       "      <td>702.0</td>\n",
       "      <td>156.0</td>\n",
       "      <td>1041.0</td>\n",
       "      <td>770.0</td>\n",
       "      <td>28.3</td>\n",
       "      <td>13.5</td>\n",
       "      <td>0.5139</td>\n",
       "      <td>4</td>\n",
       "      <td>4</td>\n",
       "      <td>2005</td>\n",
       "    </tr>\n",
       "    <tr>\n",
       "      <th>9356</th>\n",
       "      <td>14:00:00</td>\n",
       "      <td>1071.0</td>\n",
       "      <td>1047.0</td>\n",
       "      <td>654.0</td>\n",
       "      <td>168.0</td>\n",
       "      <td>1129.0</td>\n",
       "      <td>816.0</td>\n",
       "      <td>28.5</td>\n",
       "      <td>13.1</td>\n",
       "      <td>0.5028</td>\n",
       "      <td>4</td>\n",
       "      <td>4</td>\n",
       "      <td>2005</td>\n",
       "    </tr>\n",
       "  </tbody>\n",
       "</table>\n",
       "<p>7393 rows × 13 columns</p>\n",
       "</div>"
      ],
      "text/plain": [
       "          Time  PT08.S1(CO)  PT08.S2(NMHC)  PT08.S3(NOx)  NO2(GT)  \\\n",
       "0     18:00:00       1360.0         1046.0        1056.0    113.0   \n",
       "1     19:00:00       1292.0          955.0        1174.0     92.0   \n",
       "2     20:00:00       1402.0          939.0        1140.0    114.0   \n",
       "3     21:00:00       1376.0          948.0        1092.0    122.0   \n",
       "4     22:00:00       1272.0          836.0        1205.0    116.0   \n",
       "...        ...          ...            ...           ...      ...   \n",
       "9352  10:00:00       1314.0         1101.0         539.0    190.0   \n",
       "9353  11:00:00       1163.0         1027.0         604.0    179.0   \n",
       "9354  12:00:00       1142.0         1063.0         603.0    175.0   \n",
       "9355  13:00:00       1003.0          961.0         702.0    156.0   \n",
       "9356  14:00:00       1071.0         1047.0         654.0    168.0   \n",
       "\n",
       "      PT08.S4(NO2)  PT08.S5(O3)     T    RH      AH Day Month  Year  \n",
       "0           1692.0       1268.0  13.6  48.9  0.7578   3    10  2004  \n",
       "1           1559.0        972.0  13.3  47.7  0.7255   3    10  2004  \n",
       "2           1555.0       1074.0  11.9  54.0  0.7502   3    10  2004  \n",
       "3           1584.0       1203.0  11.0  60.0  0.7867   3    10  2004  \n",
       "4           1490.0       1110.0  11.2  59.6  0.7888   3    10  2004  \n",
       "...            ...          ...   ...   ...     ...  ..   ...   ...  \n",
       "9352        1374.0       1729.0  21.9  29.3  0.7568   4     4  2005  \n",
       "9353        1264.0       1269.0  24.3  23.7  0.7119   4     4  2005  \n",
       "9354        1241.0       1092.0  26.9  18.3  0.6406   4     4  2005  \n",
       "9355        1041.0        770.0  28.3  13.5  0.5139   4     4  2005  \n",
       "9356        1129.0        816.0  28.5  13.1  0.5028   4     4  2005  \n",
       "\n",
       "[7393 rows x 13 columns]"
      ]
     },
     "execution_count": 19,
     "metadata": {},
     "output_type": "execute_result"
    }
   ],
   "source": [
    "df = replace_date_feature(df)\n",
    "df"
   ]
  },
  {
   "cell_type": "markdown",
   "metadata": {
    "id": "zHvSGF9fuQYo"
   },
   "source": [
    "### 5- Replace time feature"
   ]
  },
  {
   "cell_type": "code",
   "execution_count": 20,
   "metadata": {
    "id": "vWqvEVdsuQYo"
   },
   "outputs": [],
   "source": [
    "def replace_time_feature(df):\n",
    "    df[['Hours','Minutes','Seconds']] = df['Time'].str.split(':',expand =True)\n",
    "    df = df.drop('Time', axis = 1)\n",
    "    return df"
   ]
  },
  {
   "cell_type": "code",
   "execution_count": 21,
   "metadata": {},
   "outputs": [
    {
     "data": {
      "text/html": [
       "<div>\n",
       "<style scoped>\n",
       "    .dataframe tbody tr th:only-of-type {\n",
       "        vertical-align: middle;\n",
       "    }\n",
       "\n",
       "    .dataframe tbody tr th {\n",
       "        vertical-align: top;\n",
       "    }\n",
       "\n",
       "    .dataframe thead th {\n",
       "        text-align: right;\n",
       "    }\n",
       "</style>\n",
       "<table border=\"1\" class=\"dataframe\">\n",
       "  <thead>\n",
       "    <tr style=\"text-align: right;\">\n",
       "      <th></th>\n",
       "      <th>PT08.S1(CO)</th>\n",
       "      <th>PT08.S2(NMHC)</th>\n",
       "      <th>PT08.S3(NOx)</th>\n",
       "      <th>NO2(GT)</th>\n",
       "      <th>PT08.S4(NO2)</th>\n",
       "      <th>PT08.S5(O3)</th>\n",
       "      <th>T</th>\n",
       "      <th>RH</th>\n",
       "      <th>AH</th>\n",
       "      <th>Day</th>\n",
       "      <th>Month</th>\n",
       "      <th>Year</th>\n",
       "      <th>Hours</th>\n",
       "      <th>Minutes</th>\n",
       "      <th>Seconds</th>\n",
       "    </tr>\n",
       "  </thead>\n",
       "  <tbody>\n",
       "    <tr>\n",
       "      <th>0</th>\n",
       "      <td>1360.0</td>\n",
       "      <td>1046.0</td>\n",
       "      <td>1056.0</td>\n",
       "      <td>113.0</td>\n",
       "      <td>1692.0</td>\n",
       "      <td>1268.0</td>\n",
       "      <td>13.6</td>\n",
       "      <td>48.9</td>\n",
       "      <td>0.7578</td>\n",
       "      <td>3</td>\n",
       "      <td>10</td>\n",
       "      <td>2004</td>\n",
       "      <td>18</td>\n",
       "      <td>00</td>\n",
       "      <td>00</td>\n",
       "    </tr>\n",
       "    <tr>\n",
       "      <th>1</th>\n",
       "      <td>1292.0</td>\n",
       "      <td>955.0</td>\n",
       "      <td>1174.0</td>\n",
       "      <td>92.0</td>\n",
       "      <td>1559.0</td>\n",
       "      <td>972.0</td>\n",
       "      <td>13.3</td>\n",
       "      <td>47.7</td>\n",
       "      <td>0.7255</td>\n",
       "      <td>3</td>\n",
       "      <td>10</td>\n",
       "      <td>2004</td>\n",
       "      <td>19</td>\n",
       "      <td>00</td>\n",
       "      <td>00</td>\n",
       "    </tr>\n",
       "    <tr>\n",
       "      <th>2</th>\n",
       "      <td>1402.0</td>\n",
       "      <td>939.0</td>\n",
       "      <td>1140.0</td>\n",
       "      <td>114.0</td>\n",
       "      <td>1555.0</td>\n",
       "      <td>1074.0</td>\n",
       "      <td>11.9</td>\n",
       "      <td>54.0</td>\n",
       "      <td>0.7502</td>\n",
       "      <td>3</td>\n",
       "      <td>10</td>\n",
       "      <td>2004</td>\n",
       "      <td>20</td>\n",
       "      <td>00</td>\n",
       "      <td>00</td>\n",
       "    </tr>\n",
       "    <tr>\n",
       "      <th>3</th>\n",
       "      <td>1376.0</td>\n",
       "      <td>948.0</td>\n",
       "      <td>1092.0</td>\n",
       "      <td>122.0</td>\n",
       "      <td>1584.0</td>\n",
       "      <td>1203.0</td>\n",
       "      <td>11.0</td>\n",
       "      <td>60.0</td>\n",
       "      <td>0.7867</td>\n",
       "      <td>3</td>\n",
       "      <td>10</td>\n",
       "      <td>2004</td>\n",
       "      <td>21</td>\n",
       "      <td>00</td>\n",
       "      <td>00</td>\n",
       "    </tr>\n",
       "    <tr>\n",
       "      <th>4</th>\n",
       "      <td>1272.0</td>\n",
       "      <td>836.0</td>\n",
       "      <td>1205.0</td>\n",
       "      <td>116.0</td>\n",
       "      <td>1490.0</td>\n",
       "      <td>1110.0</td>\n",
       "      <td>11.2</td>\n",
       "      <td>59.6</td>\n",
       "      <td>0.7888</td>\n",
       "      <td>3</td>\n",
       "      <td>10</td>\n",
       "      <td>2004</td>\n",
       "      <td>22</td>\n",
       "      <td>00</td>\n",
       "      <td>00</td>\n",
       "    </tr>\n",
       "    <tr>\n",
       "      <th>...</th>\n",
       "      <td>...</td>\n",
       "      <td>...</td>\n",
       "      <td>...</td>\n",
       "      <td>...</td>\n",
       "      <td>...</td>\n",
       "      <td>...</td>\n",
       "      <td>...</td>\n",
       "      <td>...</td>\n",
       "      <td>...</td>\n",
       "      <td>...</td>\n",
       "      <td>...</td>\n",
       "      <td>...</td>\n",
       "      <td>...</td>\n",
       "      <td>...</td>\n",
       "      <td>...</td>\n",
       "    </tr>\n",
       "    <tr>\n",
       "      <th>9352</th>\n",
       "      <td>1314.0</td>\n",
       "      <td>1101.0</td>\n",
       "      <td>539.0</td>\n",
       "      <td>190.0</td>\n",
       "      <td>1374.0</td>\n",
       "      <td>1729.0</td>\n",
       "      <td>21.9</td>\n",
       "      <td>29.3</td>\n",
       "      <td>0.7568</td>\n",
       "      <td>4</td>\n",
       "      <td>4</td>\n",
       "      <td>2005</td>\n",
       "      <td>10</td>\n",
       "      <td>00</td>\n",
       "      <td>00</td>\n",
       "    </tr>\n",
       "    <tr>\n",
       "      <th>9353</th>\n",
       "      <td>1163.0</td>\n",
       "      <td>1027.0</td>\n",
       "      <td>604.0</td>\n",
       "      <td>179.0</td>\n",
       "      <td>1264.0</td>\n",
       "      <td>1269.0</td>\n",
       "      <td>24.3</td>\n",
       "      <td>23.7</td>\n",
       "      <td>0.7119</td>\n",
       "      <td>4</td>\n",
       "      <td>4</td>\n",
       "      <td>2005</td>\n",
       "      <td>11</td>\n",
       "      <td>00</td>\n",
       "      <td>00</td>\n",
       "    </tr>\n",
       "    <tr>\n",
       "      <th>9354</th>\n",
       "      <td>1142.0</td>\n",
       "      <td>1063.0</td>\n",
       "      <td>603.0</td>\n",
       "      <td>175.0</td>\n",
       "      <td>1241.0</td>\n",
       "      <td>1092.0</td>\n",
       "      <td>26.9</td>\n",
       "      <td>18.3</td>\n",
       "      <td>0.6406</td>\n",
       "      <td>4</td>\n",
       "      <td>4</td>\n",
       "      <td>2005</td>\n",
       "      <td>12</td>\n",
       "      <td>00</td>\n",
       "      <td>00</td>\n",
       "    </tr>\n",
       "    <tr>\n",
       "      <th>9355</th>\n",
       "      <td>1003.0</td>\n",
       "      <td>961.0</td>\n",
       "      <td>702.0</td>\n",
       "      <td>156.0</td>\n",
       "      <td>1041.0</td>\n",
       "      <td>770.0</td>\n",
       "      <td>28.3</td>\n",
       "      <td>13.5</td>\n",
       "      <td>0.5139</td>\n",
       "      <td>4</td>\n",
       "      <td>4</td>\n",
       "      <td>2005</td>\n",
       "      <td>13</td>\n",
       "      <td>00</td>\n",
       "      <td>00</td>\n",
       "    </tr>\n",
       "    <tr>\n",
       "      <th>9356</th>\n",
       "      <td>1071.0</td>\n",
       "      <td>1047.0</td>\n",
       "      <td>654.0</td>\n",
       "      <td>168.0</td>\n",
       "      <td>1129.0</td>\n",
       "      <td>816.0</td>\n",
       "      <td>28.5</td>\n",
       "      <td>13.1</td>\n",
       "      <td>0.5028</td>\n",
       "      <td>4</td>\n",
       "      <td>4</td>\n",
       "      <td>2005</td>\n",
       "      <td>14</td>\n",
       "      <td>00</td>\n",
       "      <td>00</td>\n",
       "    </tr>\n",
       "  </tbody>\n",
       "</table>\n",
       "<p>7393 rows × 15 columns</p>\n",
       "</div>"
      ],
      "text/plain": [
       "      PT08.S1(CO)  PT08.S2(NMHC)  PT08.S3(NOx)  NO2(GT)  PT08.S4(NO2)  \\\n",
       "0          1360.0         1046.0        1056.0    113.0        1692.0   \n",
       "1          1292.0          955.0        1174.0     92.0        1559.0   \n",
       "2          1402.0          939.0        1140.0    114.0        1555.0   \n",
       "3          1376.0          948.0        1092.0    122.0        1584.0   \n",
       "4          1272.0          836.0        1205.0    116.0        1490.0   \n",
       "...           ...            ...           ...      ...           ...   \n",
       "9352       1314.0         1101.0         539.0    190.0        1374.0   \n",
       "9353       1163.0         1027.0         604.0    179.0        1264.0   \n",
       "9354       1142.0         1063.0         603.0    175.0        1241.0   \n",
       "9355       1003.0          961.0         702.0    156.0        1041.0   \n",
       "9356       1071.0         1047.0         654.0    168.0        1129.0   \n",
       "\n",
       "      PT08.S5(O3)     T    RH      AH Day Month  Year Hours Minutes Seconds  \n",
       "0          1268.0  13.6  48.9  0.7578   3    10  2004    18      00      00  \n",
       "1           972.0  13.3  47.7  0.7255   3    10  2004    19      00      00  \n",
       "2          1074.0  11.9  54.0  0.7502   3    10  2004    20      00      00  \n",
       "3          1203.0  11.0  60.0  0.7867   3    10  2004    21      00      00  \n",
       "4          1110.0  11.2  59.6  0.7888   3    10  2004    22      00      00  \n",
       "...           ...   ...   ...     ...  ..   ...   ...   ...     ...     ...  \n",
       "9352       1729.0  21.9  29.3  0.7568   4     4  2005    10      00      00  \n",
       "9353       1269.0  24.3  23.7  0.7119   4     4  2005    11      00      00  \n",
       "9354       1092.0  26.9  18.3  0.6406   4     4  2005    12      00      00  \n",
       "9355        770.0  28.3  13.5  0.5139   4     4  2005    13      00      00  \n",
       "9356        816.0  28.5  13.1  0.5028   4     4  2005    14      00      00  \n",
       "\n",
       "[7393 rows x 15 columns]"
      ]
     },
     "execution_count": 21,
     "metadata": {},
     "output_type": "execute_result"
    }
   ],
   "source": [
    "df = replace_time_feature(df)\n",
    "df"
   ]
  },
  {
   "cell_type": "markdown",
   "metadata": {
    "id": "rV0bYDXzuQYo"
   },
   "source": [
    "### 6- Apply feature scaling"
   ]
  },
  {
   "cell_type": "markdown",
   "metadata": {},
   "source": [
    "We will perform feature scaling after choosing the poloynomial degree,\n",
    "so we will make it inside the loop of the next section\n",
    "For this section, we just import the necessary libraries\n",
    "and prepare X,y"
   ]
  },
  {
   "cell_type": "code",
   "execution_count": 22,
   "metadata": {
    "id": "qIgBH_d2uQYo"
   },
   "outputs": [],
   "source": [
    "X = df.drop('NO2(GT)',axis=1)\n",
    "y = df['NO2(GT)']"
   ]
  },
  {
   "cell_type": "code",
   "execution_count": 23,
   "metadata": {},
   "outputs": [
    {
     "data": {
      "text/html": [
       "<div>\n",
       "<style scoped>\n",
       "    .dataframe tbody tr th:only-of-type {\n",
       "        vertical-align: middle;\n",
       "    }\n",
       "\n",
       "    .dataframe tbody tr th {\n",
       "        vertical-align: top;\n",
       "    }\n",
       "\n",
       "    .dataframe thead th {\n",
       "        text-align: right;\n",
       "    }\n",
       "</style>\n",
       "<table border=\"1\" class=\"dataframe\">\n",
       "  <thead>\n",
       "    <tr style=\"text-align: right;\">\n",
       "      <th></th>\n",
       "      <th>PT08.S1(CO)</th>\n",
       "      <th>PT08.S2(NMHC)</th>\n",
       "      <th>PT08.S3(NOx)</th>\n",
       "      <th>PT08.S4(NO2)</th>\n",
       "      <th>PT08.S5(O3)</th>\n",
       "      <th>T</th>\n",
       "      <th>RH</th>\n",
       "      <th>AH</th>\n",
       "      <th>Day</th>\n",
       "      <th>Month</th>\n",
       "      <th>Year</th>\n",
       "      <th>Hours</th>\n",
       "      <th>Minutes</th>\n",
       "      <th>Seconds</th>\n",
       "    </tr>\n",
       "  </thead>\n",
       "  <tbody>\n",
       "    <tr>\n",
       "      <th>0</th>\n",
       "      <td>1360.0</td>\n",
       "      <td>1046.0</td>\n",
       "      <td>1056.0</td>\n",
       "      <td>1692.0</td>\n",
       "      <td>1268.0</td>\n",
       "      <td>13.6</td>\n",
       "      <td>48.9</td>\n",
       "      <td>0.7578</td>\n",
       "      <td>3</td>\n",
       "      <td>10</td>\n",
       "      <td>2004</td>\n",
       "      <td>18</td>\n",
       "      <td>00</td>\n",
       "      <td>00</td>\n",
       "    </tr>\n",
       "    <tr>\n",
       "      <th>1</th>\n",
       "      <td>1292.0</td>\n",
       "      <td>955.0</td>\n",
       "      <td>1174.0</td>\n",
       "      <td>1559.0</td>\n",
       "      <td>972.0</td>\n",
       "      <td>13.3</td>\n",
       "      <td>47.7</td>\n",
       "      <td>0.7255</td>\n",
       "      <td>3</td>\n",
       "      <td>10</td>\n",
       "      <td>2004</td>\n",
       "      <td>19</td>\n",
       "      <td>00</td>\n",
       "      <td>00</td>\n",
       "    </tr>\n",
       "    <tr>\n",
       "      <th>2</th>\n",
       "      <td>1402.0</td>\n",
       "      <td>939.0</td>\n",
       "      <td>1140.0</td>\n",
       "      <td>1555.0</td>\n",
       "      <td>1074.0</td>\n",
       "      <td>11.9</td>\n",
       "      <td>54.0</td>\n",
       "      <td>0.7502</td>\n",
       "      <td>3</td>\n",
       "      <td>10</td>\n",
       "      <td>2004</td>\n",
       "      <td>20</td>\n",
       "      <td>00</td>\n",
       "      <td>00</td>\n",
       "    </tr>\n",
       "    <tr>\n",
       "      <th>3</th>\n",
       "      <td>1376.0</td>\n",
       "      <td>948.0</td>\n",
       "      <td>1092.0</td>\n",
       "      <td>1584.0</td>\n",
       "      <td>1203.0</td>\n",
       "      <td>11.0</td>\n",
       "      <td>60.0</td>\n",
       "      <td>0.7867</td>\n",
       "      <td>3</td>\n",
       "      <td>10</td>\n",
       "      <td>2004</td>\n",
       "      <td>21</td>\n",
       "      <td>00</td>\n",
       "      <td>00</td>\n",
       "    </tr>\n",
       "    <tr>\n",
       "      <th>4</th>\n",
       "      <td>1272.0</td>\n",
       "      <td>836.0</td>\n",
       "      <td>1205.0</td>\n",
       "      <td>1490.0</td>\n",
       "      <td>1110.0</td>\n",
       "      <td>11.2</td>\n",
       "      <td>59.6</td>\n",
       "      <td>0.7888</td>\n",
       "      <td>3</td>\n",
       "      <td>10</td>\n",
       "      <td>2004</td>\n",
       "      <td>22</td>\n",
       "      <td>00</td>\n",
       "      <td>00</td>\n",
       "    </tr>\n",
       "    <tr>\n",
       "      <th>...</th>\n",
       "      <td>...</td>\n",
       "      <td>...</td>\n",
       "      <td>...</td>\n",
       "      <td>...</td>\n",
       "      <td>...</td>\n",
       "      <td>...</td>\n",
       "      <td>...</td>\n",
       "      <td>...</td>\n",
       "      <td>...</td>\n",
       "      <td>...</td>\n",
       "      <td>...</td>\n",
       "      <td>...</td>\n",
       "      <td>...</td>\n",
       "      <td>...</td>\n",
       "    </tr>\n",
       "    <tr>\n",
       "      <th>9352</th>\n",
       "      <td>1314.0</td>\n",
       "      <td>1101.0</td>\n",
       "      <td>539.0</td>\n",
       "      <td>1374.0</td>\n",
       "      <td>1729.0</td>\n",
       "      <td>21.9</td>\n",
       "      <td>29.3</td>\n",
       "      <td>0.7568</td>\n",
       "      <td>4</td>\n",
       "      <td>4</td>\n",
       "      <td>2005</td>\n",
       "      <td>10</td>\n",
       "      <td>00</td>\n",
       "      <td>00</td>\n",
       "    </tr>\n",
       "    <tr>\n",
       "      <th>9353</th>\n",
       "      <td>1163.0</td>\n",
       "      <td>1027.0</td>\n",
       "      <td>604.0</td>\n",
       "      <td>1264.0</td>\n",
       "      <td>1269.0</td>\n",
       "      <td>24.3</td>\n",
       "      <td>23.7</td>\n",
       "      <td>0.7119</td>\n",
       "      <td>4</td>\n",
       "      <td>4</td>\n",
       "      <td>2005</td>\n",
       "      <td>11</td>\n",
       "      <td>00</td>\n",
       "      <td>00</td>\n",
       "    </tr>\n",
       "    <tr>\n",
       "      <th>9354</th>\n",
       "      <td>1142.0</td>\n",
       "      <td>1063.0</td>\n",
       "      <td>603.0</td>\n",
       "      <td>1241.0</td>\n",
       "      <td>1092.0</td>\n",
       "      <td>26.9</td>\n",
       "      <td>18.3</td>\n",
       "      <td>0.6406</td>\n",
       "      <td>4</td>\n",
       "      <td>4</td>\n",
       "      <td>2005</td>\n",
       "      <td>12</td>\n",
       "      <td>00</td>\n",
       "      <td>00</td>\n",
       "    </tr>\n",
       "    <tr>\n",
       "      <th>9355</th>\n",
       "      <td>1003.0</td>\n",
       "      <td>961.0</td>\n",
       "      <td>702.0</td>\n",
       "      <td>1041.0</td>\n",
       "      <td>770.0</td>\n",
       "      <td>28.3</td>\n",
       "      <td>13.5</td>\n",
       "      <td>0.5139</td>\n",
       "      <td>4</td>\n",
       "      <td>4</td>\n",
       "      <td>2005</td>\n",
       "      <td>13</td>\n",
       "      <td>00</td>\n",
       "      <td>00</td>\n",
       "    </tr>\n",
       "    <tr>\n",
       "      <th>9356</th>\n",
       "      <td>1071.0</td>\n",
       "      <td>1047.0</td>\n",
       "      <td>654.0</td>\n",
       "      <td>1129.0</td>\n",
       "      <td>816.0</td>\n",
       "      <td>28.5</td>\n",
       "      <td>13.1</td>\n",
       "      <td>0.5028</td>\n",
       "      <td>4</td>\n",
       "      <td>4</td>\n",
       "      <td>2005</td>\n",
       "      <td>14</td>\n",
       "      <td>00</td>\n",
       "      <td>00</td>\n",
       "    </tr>\n",
       "  </tbody>\n",
       "</table>\n",
       "<p>7393 rows × 14 columns</p>\n",
       "</div>"
      ],
      "text/plain": [
       "      PT08.S1(CO)  PT08.S2(NMHC)  PT08.S3(NOx)  PT08.S4(NO2)  PT08.S5(O3)  \\\n",
       "0          1360.0         1046.0        1056.0        1692.0       1268.0   \n",
       "1          1292.0          955.0        1174.0        1559.0        972.0   \n",
       "2          1402.0          939.0        1140.0        1555.0       1074.0   \n",
       "3          1376.0          948.0        1092.0        1584.0       1203.0   \n",
       "4          1272.0          836.0        1205.0        1490.0       1110.0   \n",
       "...           ...            ...           ...           ...          ...   \n",
       "9352       1314.0         1101.0         539.0        1374.0       1729.0   \n",
       "9353       1163.0         1027.0         604.0        1264.0       1269.0   \n",
       "9354       1142.0         1063.0         603.0        1241.0       1092.0   \n",
       "9355       1003.0          961.0         702.0        1041.0        770.0   \n",
       "9356       1071.0         1047.0         654.0        1129.0        816.0   \n",
       "\n",
       "         T    RH      AH Day Month  Year Hours Minutes Seconds  \n",
       "0     13.6  48.9  0.7578   3    10  2004    18      00      00  \n",
       "1     13.3  47.7  0.7255   3    10  2004    19      00      00  \n",
       "2     11.9  54.0  0.7502   3    10  2004    20      00      00  \n",
       "3     11.0  60.0  0.7867   3    10  2004    21      00      00  \n",
       "4     11.2  59.6  0.7888   3    10  2004    22      00      00  \n",
       "...    ...   ...     ...  ..   ...   ...   ...     ...     ...  \n",
       "9352  21.9  29.3  0.7568   4     4  2005    10      00      00  \n",
       "9353  24.3  23.7  0.7119   4     4  2005    11      00      00  \n",
       "9354  26.9  18.3  0.6406   4     4  2005    12      00      00  \n",
       "9355  28.3  13.5  0.5139   4     4  2005    13      00      00  \n",
       "9356  28.5  13.1  0.5028   4     4  2005    14      00      00  \n",
       "\n",
       "[7393 rows x 14 columns]"
      ]
     },
     "execution_count": 23,
     "metadata": {},
     "output_type": "execute_result"
    }
   ],
   "source": [
    "X"
   ]
  },
  {
   "cell_type": "code",
   "execution_count": 24,
   "metadata": {},
   "outputs": [],
   "source": [
    "from sklearn.preprocessing import PolynomialFeatures\n",
    "from sklearn.preprocessing import StandardScaler\n",
    "from sklearn.model_selection import train_test_split\n",
    "from sklearn.linear_model import RidgeCV\n",
    "from sklearn.linear_model import LassoCV\n",
    "from sklearn.linear_model import ElasticNetCV\n",
    "from sklearn.metrics import mean_absolute_error,mean_squared_error\n",
    "scaler = StandardScaler()"
   ]
  },
  {
   "cell_type": "markdown",
   "metadata": {
    "id": "-Bh7ou_4uQYp"
   },
   "source": [
    "### 7- Evaluate different degrees of lasso CV polynomial regression"
   ]
  },
  {
   "cell_type": "code",
   "execution_count": 25,
   "metadata": {
    "id": "tLBRmfjuuQYp"
   },
   "outputs": [
    {
     "name": "stdout",
     "output_type": "stream",
     "text": [
      "1   23.270743197485626   3.3928122729437256\n",
      "1   23.820503658206707   3.3928122729437256\n",
      "2   22.483849424316265   3.3938106840490305\n",
      "2   23.24867133050477   3.3938106840490305\n",
      "3   22.462301219115016   3.420376268214312\n",
      "3   23.235826101907648   3.420376268214312\n",
      "4   22.395392301990224   3.420484435261329\n",
      "4   23.18281134636204   3.420484435261329\n",
      "5   22.369820982679986   3.4205925204439347\n",
      "5   23.137164456305644   3.4205925204439347\n"
     ]
    }
   ],
   "source": [
    "# TRAINING ERROR PER DEGREE\n",
    "train_rmse_errors = []\n",
    "# TEST ERROR PER DEGREE\n",
    "test_rmse_errors = []\n",
    "# save the model alpha\n",
    "alphas = []\n",
    "# save the model coefficients\n",
    "model_coefs = []\n",
    "for i in range(1,6) : \n",
    "    polynomial_converter = PolynomialFeatures(degree=i,include_bias=False)\n",
    "    poly_features = polynomial_converter.fit_transform(X)\n",
    "    \n",
    "    X_train, X_test, y_train, y_test = train_test_split(poly_features, y, test_size=0.3, random_state=101)\n",
    "    scaler.fit(X_train)\n",
    "    X_train = scaler.transform(X_train)\n",
    "    X_test = scaler.transform(X_test)\n",
    "    \n",
    "    lasso_cv_model = LassoCV(eps=0.1,n_alphas=100,tol=1e-2,cv=5)\n",
    "    lasso_cv_model.fit(X_train,y_train)\n",
    "    \n",
    "    test_predictions = lasso_cv_model.predict(X_test)\n",
    "    MAE = mean_absolute_error(y_test,test_predictions)\n",
    "    MSE = mean_squared_error(y_test,test_predictions)\n",
    "    RMSE = np.sqrt(MSE)\n",
    "    test_rmse_errors.append(RMSE)\n",
    "    print(i,\" \",RMSE,\" \", lasso_cv_model.alpha_)\n",
    "    \n",
    "    train_predictions = lasso_cv_model.predict(X_train)\n",
    "    MAE2 = mean_absolute_error(y_train,train_predictions)\n",
    "    MSE2 = mean_squared_error(y_train,train_predictions)\n",
    "    RMSE2 = np.sqrt(MSE2)\n",
    "    train_rmse_errors.append(RMSE2)\n",
    "    print(i,\" \",RMSE2,\" \", lasso_cv_model.alpha_)\n",
    "    \n",
    "    alphas.append(lasso_cv_model.alpha_);\n",
    "    model_coefs.append(lasso_cv_model.coef_)"
   ]
  },
  {
   "cell_type": "code",
   "execution_count": 26,
   "metadata": {},
   "outputs": [
    {
     "data": {
      "text/plain": [
       "[23.270743197485626,\n",
       " 22.483849424316265,\n",
       " 22.462301219115016,\n",
       " 22.395392301990224,\n",
       " 22.369820982679986]"
      ]
     },
     "execution_count": 26,
     "metadata": {},
     "output_type": "execute_result"
    }
   ],
   "source": [
    "(test_rmse_errors)"
   ]
  },
  {
   "cell_type": "code",
   "execution_count": 27,
   "metadata": {},
   "outputs": [
    {
     "data": {
      "text/plain": [
       "[23.820503658206707,\n",
       " 23.24867133050477,\n",
       " 23.235826101907648,\n",
       " 23.18281134636204,\n",
       " 23.137164456305644]"
      ]
     },
     "execution_count": 27,
     "metadata": {},
     "output_type": "execute_result"
    }
   ],
   "source": [
    "train_rmse_errors"
   ]
  },
  {
   "cell_type": "code",
   "execution_count": 28,
   "metadata": {},
   "outputs": [
    {
     "data": {
      "text/plain": [
       "[3.3928122729437256,\n",
       " 3.3938106840490305,\n",
       " 3.420376268214312,\n",
       " 3.420484435261329,\n",
       " 3.4205925204439347]"
      ]
     },
     "execution_count": 28,
     "metadata": {},
     "output_type": "execute_result"
    }
   ],
   "source": [
    "alphas"
   ]
  },
  {
   "cell_type": "markdown",
   "metadata": {
    "id": "pDn9gby-uQYp"
   },
   "source": [
    "### 8- Choose the best degree and print the errors, model coefficients and the lasso parameters."
   ]
  },
  {
   "cell_type": "code",
   "execution_count": 29,
   "metadata": {
    "id": "xLdmHaPBuQYq"
   },
   "outputs": [
    {
     "data": {
      "text/plain": [
       "<matplotlib.legend.Legend at 0x1e4290b4ca0>"
      ]
     },
     "execution_count": 29,
     "metadata": {},
     "output_type": "execute_result"
    },
    {
     "data": {
      "image/png": "[encoded data removed]",
      "text/plain": [
       "<Figure size 432x288 with 1 Axes>"
      ]
     },
     "metadata": {
      "needs_background": "light"
     },
     "output_type": "display_data"
    }
   ],
   "source": [
    "plt.plot(range(1,6),train_rmse_errors,label='TRAIN')\n",
    "plt.plot(range(1,6),test_rmse_errors,label='TEST')\n",
    "plt.xlabel(\"Polynomial Complexity\")\n",
    "plt.ylabel(\"RMSE\")\n",
    "plt.legend()"
   ]
  },
  {
   "cell_type": "markdown",
   "metadata": {},
   "source": [
    "It is clear that the best degree is 5\n",
    "---------"
   ]
  },
  {
   "cell_type": "code",
   "execution_count": 30,
   "metadata": {},
   "outputs": [],
   "source": [
    "#RMSE ERROR FOR THIS MODEL (traning & testing datasets)\n",
    "RMSE_test = test_rmse_errors[4]\n",
    "RMSE_train = train_rmse_errors[4]"
   ]
  },
  {
   "cell_type": "code",
   "execution_count": 31,
   "metadata": {},
   "outputs": [
    {
     "data": {
      "text/plain": [
       "22.369820982679986"
      ]
     },
     "execution_count": 31,
     "metadata": {},
     "output_type": "execute_result"
    }
   ],
   "source": [
    "# this represents the coefficients\n",
    "RMSE_test"
   ]
  },
  {
   "cell_type": "code",
   "execution_count": 32,
   "metadata": {},
   "outputs": [
    {
     "data": {
      "text/plain": [
       "23.137164456305644"
      ]
     },
     "execution_count": 32,
     "metadata": {},
     "output_type": "execute_result"
    }
   ],
   "source": [
    "# this is the best RMSE for the training dataset\n",
    "RMSE_train"
   ]
  },
  {
   "cell_type": "code",
   "execution_count": 33,
   "metadata": {},
   "outputs": [
    {
     "data": {
      "text/plain": [
       "array([ 0.        ,  9.73385498, -6.77401873, ...,  0.        ,\n",
       "        0.        ,  0.        ])"
      ]
     },
     "execution_count": 33,
     "metadata": {},
     "output_type": "execute_result"
    }
   ],
   "source": [
    "# this represents the coefficients#model coefficients\n",
    "(model_coefs[4])"
   ]
  },
  {
   "cell_type": "code",
   "execution_count": 34,
   "metadata": {},
   "outputs": [
    {
     "data": {
      "text/plain": [
       "3.4205925204439347"
      ]
     },
     "execution_count": 34,
     "metadata": {},
     "output_type": "execute_result"
    }
   ],
   "source": [
    "# this represent the alpha\n",
    "alphas[4]"
   ]
  },
  {
   "cell_type": "markdown",
   "metadata": {
    "id": "M8SOg6KEuQYq"
   },
   "source": [
    "### 9a- Evaluate different degrees of Ridge CV polynomial regression"
   ]
  },
  {
   "cell_type": "code",
   "execution_count": 35,
   "metadata": {
    "id": "IqWaySbcuQYq"
   },
   "outputs": [
    {
     "name": "stdout",
     "output_type": "stream",
     "text": [
      "1   22.225818653329135   1.0\n",
      "1   22.10444631477176   1.0\n",
      "2   18.70860660420155   0.1\n",
      "2   18.31075933853175   0.1\n",
      "3   17.0905176844131   0.1\n",
      "3   15.659403038696752   0.1\n",
      "4   17.96461083029186   0.1\n",
      "4   13.503887450140663   0.1\n",
      "5   21.679988477578124   0.1\n",
      "5   11.731232740172086   0.1\n"
     ]
    }
   ],
   "source": [
    "# TRAINING ERROR PER DEGREE\n",
    "train_rmse_errors2 = []\n",
    "# TEST ERROR PER DEGREE\n",
    "test_rmse_errors2 = []\n",
    "# save the model alpha\n",
    "alphas2 = []\n",
    "# save the model coefficients\n",
    "model_coefs2 = []\n",
    "for i in range(1,6) : \n",
    "    polynomial_converter = PolynomialFeatures(degree=i,include_bias=False)\n",
    "    poly_features = polynomial_converter.fit_transform(X)\n",
    "    \n",
    "    X_train, X_test, y_train, y_test = train_test_split(poly_features, y, test_size=0.3, random_state=101)\n",
    "    scaler.fit(X_train)\n",
    "    X_train = scaler.transform(X_train)\n",
    "    X_test = scaler.transform(X_test)\n",
    "    \n",
    "    ridge_cv_model = RidgeCV(alphas=(0.1, 1.0, 10.0),scoring='neg_mean_absolute_error')\n",
    "    ridge_cv_model.fit(X_train,y_train)\n",
    "    \n",
    "    test_predictions = ridge_cv_model.predict(X_test)\n",
    "    MAE = mean_absolute_error(y_test,test_predictions)\n",
    "    MSE = mean_squared_error(y_test,test_predictions)\n",
    "    RMSE = np.sqrt(MSE)\n",
    "    test_rmse_errors2.append(RMSE)\n",
    "    print(i,\" \",RMSE,\" \", ridge_cv_model.alpha_)\n",
    "    \n",
    "    train_predictions = ridge_cv_model.predict(X_train)\n",
    "    MAE2 = mean_absolute_error(y_train,train_predictions)\n",
    "    MSE2 = mean_squared_error(y_train,train_predictions)\n",
    "    RMSE2 = np.sqrt(MSE2)\n",
    "    train_rmse_errors2.append(RMSE2)\n",
    "    print(i,\" \",RMSE2,\" \", ridge_cv_model.alpha_)\n",
    "    \n",
    "    alphas2.append(ridge_cv_model.alpha_);\n",
    "    model_coefs2.append(ridge_cv_model.coef_)"
   ]
  },
  {
   "cell_type": "markdown",
   "metadata": {
    "id": "8Bj_3j9RuQYr"
   },
   "source": [
    "### 9b- Choose the best degree and print the errors, model coefficients and the Ridge parameters."
   ]
  },
  {
   "cell_type": "code",
   "execution_count": 36,
   "metadata": {
    "id": "4q5E5NnbuQYr"
   },
   "outputs": [
    {
     "data": {
      "text/plain": [
       "<matplotlib.legend.Legend at 0x1e426e3a9d0>"
      ]
     },
     "execution_count": 36,
     "metadata": {},
     "output_type": "execute_result"
    },
    {
     "data": {
      "image/png": "[encoded data removed]",
      "text/plain": [
       "<Figure size 432x288 with 1 Axes>"
      ]
     },
     "metadata": {
      "needs_background": "light"
     },
     "output_type": "display_data"
    }
   ],
   "source": [
    "plt.plot(range(1,6),train_rmse_errors2,label='TRAIN')\n",
    "plt.plot(range(1,6),test_rmse_errors2,label='TEST')\n",
    "plt.xlabel(\"Polynomial Complexity\")\n",
    "plt.ylabel(\"RMSE\")\n",
    "plt.legend()"
   ]
  },
  {
   "cell_type": "markdown",
   "metadata": {},
   "source": [
    "It is clear that the best degree is 3\n",
    "---------"
   ]
  },
  {
   "cell_type": "code",
   "execution_count": 37,
   "metadata": {},
   "outputs": [],
   "source": [
    "#RMSE ERROR FOR THIS MODEL (traning & testing datasets)\n",
    "RMSE_test2 = test_rmse_errors2[2]\n",
    "RMSE_train2 = train_rmse_errors2[2]"
   ]
  },
  {
   "cell_type": "code",
   "execution_count": 38,
   "metadata": {},
   "outputs": [
    {
     "data": {
      "text/plain": [
       "17.0905176844131"
      ]
     },
     "execution_count": 38,
     "metadata": {},
     "output_type": "execute_result"
    }
   ],
   "source": [
    "# this is the best RMSE for the testing dataset\n",
    "RMSE_test2"
   ]
  },
  {
   "cell_type": "code",
   "execution_count": 39,
   "metadata": {},
   "outputs": [
    {
     "data": {
      "text/plain": [
       "15.659403038696752"
      ]
     },
     "execution_count": 39,
     "metadata": {},
     "output_type": "execute_result"
    }
   ],
   "source": [
    "# this is the best RMSE for the training dataset\n",
    "RMSE_train2"
   ]
  },
  {
   "cell_type": "code",
   "execution_count": 40,
   "metadata": {},
   "outputs": [
    {
     "data": {
      "text/plain": [
       "array([ 1.11610738e+01,  2.55564377e+01, -1.54939952e+01, -2.56727328e+01,\n",
       "        2.84074830e+01, -5.98963550e+00,  8.61509958e+00,  1.19114508e+00,\n",
       "        4.47935429e+00, -2.31281533e+01,  2.27173410e+00, -1.44116997e+01,\n",
       "        0.00000000e+00,  0.00000000e+00, -1.75552422e+01,  7.83861072e+00,\n",
       "       -1.31129269e+01, -4.52601778e+01,  6.68980166e+00,  1.56483556e+01,\n",
       "       -4.67632624e+00, -1.34058940e+01, -3.21563023e+01,  4.43331748e+01,\n",
       "        1.11076666e+01, -1.99016493e+01,  0.00000000e+00,  0.00000000e+00,\n",
       "       -2.91690501e+01, -2.33429139e+00, -3.19770866e+00,  9.47188523e+00,\n",
       "        2.10864331e+01,  1.04113567e+01, -6.53467029e+00,  4.35726517e+01,\n",
       "       -2.81920051e-01,  2.54313712e+01, -2.32018047e+01,  0.00000000e+00,\n",
       "        0.00000000e+00,  3.53406007e+01,  7.76616116e+00, -3.86220843e+00,\n",
       "       -7.12595287e+00, -1.07016834e+01, -1.82707759e+01,  1.11795874e+01,\n",
       "        2.33285204e+01, -1.53851737e+01,  2.17731934e+01,  0.00000000e+00,\n",
       "        0.00000000e+00,  4.76672862e+00, -3.72282538e+01,  2.74179849e+01,\n",
       "        1.12365294e+01,  1.62948913e+01,  1.02482861e+01, -8.89369851e+00,\n",
       "       -2.57377060e+01,  3.71152029e+01,  0.00000000e+00,  0.00000000e+00,\n",
       "       -1.12080701e+01, -4.98613186e+01, -6.39486030e+00, -1.82570154e+01,\n",
       "       -3.95226741e+00,  1.09397217e+00,  2.85224972e+01,  1.39489021e+01,\n",
       "        0.00000000e+00,  0.00000000e+00, -4.34947731e+00, -4.04143086e+00,\n",
       "        3.38030253e+01,  9.52082221e+00, -7.32706644e+00, -6.15744982e+00,\n",
       "       -5.58170559e+00,  0.00000000e+00,  0.00000000e+00,  6.31714554e-02,\n",
       "       -1.68380707e+01,  1.87479517e+00, -6.67229993e+00,  9.24678109e+00,\n",
       "       -1.49154581e+01,  0.00000000e+00,  0.00000000e+00,  1.73035349e+01,\n",
       "       -5.60749271e+01, -2.25198230e-01,  1.38335332e+00,  1.64588964e+01,\n",
       "        0.00000000e+00,  0.00000000e+00, -5.81850848e+01,  4.98082790e+01,\n",
       "        4.07012061e+00,  1.87850383e+01,  0.00000000e+00,  0.00000000e+00,\n",
       "       -5.76285303e+00, -2.22835607e+01,  1.06679724e+01,  0.00000000e+00,\n",
       "        0.00000000e+00,  2.27173410e+00, -1.37147558e+01,  0.00000000e+00,\n",
       "        0.00000000e+00,  3.37024551e+01,  0.00000000e+00,  0.00000000e+00,\n",
       "        0.00000000e+00,  0.00000000e+00,  0.00000000e+00, -1.59248208e+00,\n",
       "        2.50320503e+01, -2.10716645e-02, -7.73934529e+00,  1.71270691e+01,\n",
       "        6.41583191e+00, -9.90446135e+00, -2.82174688e+01, -3.04544375e+01,\n",
       "        8.21453341e+00, -1.77563194e+01, -1.45311296e+01,  0.00000000e+00,\n",
       "        0.00000000e+00,  1.54734623e+01,  4.95519877e+01,  1.28795324e+01,\n",
       "        9.23475444e+00,  3.58330039e-02,  6.72528607e+00, -2.00549802e+01,\n",
       "       -2.85920916e-01,  7.63503357e-03,  7.62717077e+00,  1.05268326e+01,\n",
       "        0.00000000e+00,  0.00000000e+00,  5.64128825e+00, -3.98314866e+00,\n",
       "        2.75990904e+00,  1.42340186e+01,  1.29653078e+01,  1.24326472e+01,\n",
       "       -4.97083641e+01, -1.95953491e+01, -1.25848334e+01,  2.24531326e+01,\n",
       "        0.00000000e+00,  0.00000000e+00, -3.14698358e+00, -1.19342884e+01,\n",
       "       -1.96601635e+01,  4.54791483e+01, -8.48716889e+00,  6.09958957e+00,\n",
       "       -7.03641434e+01, -4.54657150e+01,  9.11174699e+00,  0.00000000e+00,\n",
       "        0.00000000e+00,  1.63426271e+01,  3.32703667e+00,  2.21109153e+01,\n",
       "        2.39917717e+01, -3.51113861e+01, -1.24836437e+00,  6.57985260e+00,\n",
       "        1.01661335e+01,  0.00000000e+00,  0.00000000e+00,  5.39590254e+00,\n",
       "        4.95969630e+01, -2.43935801e+01,  6.39709269e+01, -1.38081491e+01,\n",
       "        1.53821921e+01, -4.36833364e+00,  0.00000000e+00,  0.00000000e+00,\n",
       "       -2.63037796e+01,  4.22492726e+01,  8.18120821e+01,  3.87028610e+00,\n",
       "       -4.33170596e+00, -1.11669141e+01,  0.00000000e+00,  0.00000000e+00,\n",
       "       -9.80153600e+00,  2.66967753e+01, -4.22403690e+01, -1.34745993e+01,\n",
       "        5.65214582e+00,  0.00000000e+00,  0.00000000e+00,  7.98526402e-01,\n",
       "        4.17356752e+01, -3.26142542e+01, -1.73755937e+01,  0.00000000e+00,\n",
       "        0.00000000e+00,  5.67108243e+00,  4.51967782e+01, -2.23238417e+01,\n",
       "        0.00000000e+00,  0.00000000e+00,  1.10542319e+01, -1.90997519e+01,\n",
       "        0.00000000e+00,  0.00000000e+00,  2.49074178e+01,  0.00000000e+00,\n",
       "        0.00000000e+00,  0.00000000e+00,  0.00000000e+00,  0.00000000e+00,\n",
       "       -1.79993638e+01, -4.10642440e+01,  8.33361196e+00,  1.66127748e+01,\n",
       "       -3.49903643e+01, -8.76517371e+00, -9.24024039e+00,  3.68307330e+01,\n",
       "        1.57181764e+01, -2.94516927e+01, -1.87410664e+01,  0.00000000e+00,\n",
       "        0.00000000e+00, -9.29251652e+00,  5.73603653e+00,  2.15030250e+01,\n",
       "       -1.97189310e+01,  5.48479927e+00, -4.46737950e+01,  3.77290310e+01,\n",
       "       -1.75292297e+01, -1.64636322e+00, -2.84379367e+01,  0.00000000e+00,\n",
       "        0.00000000e+00,  2.03935278e+01,  3.62281462e+00,  2.39231688e+01,\n",
       "       -3.24169154e+00,  3.61789290e+01, -4.09385690e+01, -1.26193434e+01,\n",
       "       -3.38132430e+00,  3.55292405e+01,  0.00000000e+00,  0.00000000e+00,\n",
       "        9.33839201e+00, -4.93124253e+01, -3.60990263e+01, -1.42895730e+01,\n",
       "        3.51477901e+01,  2.49562303e+00,  9.26014460e+00,  6.81891828e+00,\n",
       "        0.00000000e+00,  0.00000000e+00,  2.27859537e+01, -7.91325027e+01,\n",
       "        4.37874216e+01,  5.64897454e+00, -3.47119319e+00,  2.08024995e+01,\n",
       "        7.37944189e+01,  0.00000000e+00,  0.00000000e+00,  1.36790793e+01,\n",
       "       -3.91763686e+01,  7.19657748e+00, -1.28237087e+01,  1.08359197e+01,\n",
       "        5.13977235e+01,  0.00000000e+00,  0.00000000e+00,  6.45265612e+01,\n",
       "       -4.85172877e+01,  8.73153596e+01, -6.62464815e+00, -1.02278327e+01,\n",
       "        0.00000000e+00,  0.00000000e+00, -1.00865000e+02, -9.33767495e+01,\n",
       "        4.31866841e+01,  1.79959703e+01,  0.00000000e+00,  0.00000000e+00,\n",
       "        2.33611955e+01,  4.75983499e-01,  1.11881516e+01,  0.00000000e+00,\n",
       "        0.00000000e+00,  2.53062261e+01, -2.24104791e+01,  0.00000000e+00,\n",
       "        0.00000000e+00, -3.01143239e+01,  0.00000000e+00,  0.00000000e+00,\n",
       "        0.00000000e+00,  0.00000000e+00,  0.00000000e+00, -1.49329923e+01,\n",
       "        1.23324653e+01,  1.44507903e+00, -2.20053951e+00, -1.07888414e+01,\n",
       "       -1.50123050e+01, -1.00043414e+01, -1.10709921e+01,  3.54095739e+01,\n",
       "       -5.55621364e+00,  0.00000000e+00,  0.00000000e+00,  5.00686425e+01,\n",
       "       -1.20842965e+01, -5.42708863e-02,  3.68435906e+00, -5.58623453e+01,\n",
       "       -4.98407624e+01,  5.93934206e+01,  8.20507766e+00, -5.27233227e+01,\n",
       "        0.00000000e+00,  0.00000000e+00, -3.49629002e+01, -4.28392574e+00,\n",
       "       -1.63428686e+01,  6.40096441e+01,  2.29885082e+01,  8.88232662e+00,\n",
       "       -2.72745106e+00,  1.63771366e+01,  0.00000000e+00,  0.00000000e+00,\n",
       "       -5.62491076e+00,  2.26344388e+01,  5.52183120e+01, -7.89886685e+00,\n",
       "       -1.58786696e+01, -7.05436800e+00, -2.88528190e+00,  0.00000000e+00,\n",
       "        0.00000000e+00,  1.71423634e+01, -1.76433739e+01,  2.63907506e+01,\n",
       "       -3.84237394e+01, -1.01039065e+01, -1.67054165e+01,  0.00000000e+00,\n",
       "        0.00000000e+00,  6.91653604e+00,  2.08428078e+01,  3.18377450e+01,\n",
       "       -1.77412666e+01,  1.96844435e+01,  0.00000000e+00,  0.00000000e+00,\n",
       "        2.45580554e+01, -1.86097670e+01,  1.10207829e+01,  3.75561671e+00,\n",
       "        0.00000000e+00,  0.00000000e+00, -4.00773806e+00,  2.41087898e+01,\n",
       "       -3.13832673e+00,  0.00000000e+00,  0.00000000e+00, -1.52762947e+01,\n",
       "        2.22968533e+01,  0.00000000e+00,  0.00000000e+00,  1.59954087e+00,\n",
       "        0.00000000e+00,  0.00000000e+00,  0.00000000e+00,  0.00000000e+00,\n",
       "        0.00000000e+00,  2.17920265e+01, -2.98536133e+01,  1.72367623e+01,\n",
       "       -1.54587692e+01,  1.12553676e+01, -5.64660323e+01, -5.99471819e+00,\n",
       "        4.65656076e+00, -4.67843367e+01,  0.00000000e+00,  0.00000000e+00,\n",
       "        3.38875712e+01,  3.29547425e+01, -1.64849673e+01,  1.33301205e+01,\n",
       "       -1.79375868e+00,  4.26330997e+01, -3.73666719e+01,  2.23330962e+01,\n",
       "        0.00000000e+00,  0.00000000e+00, -7.39387985e+01,  3.08799771e+01,\n",
       "       -1.30144940e+01,  6.59955259e+01,  3.17903981e+00,  2.72488560e+01,\n",
       "       -2.70352910e+00,  0.00000000e+00,  0.00000000e+00,  1.95515978e+01,\n",
       "       -4.84714351e+01, -1.44801008e+00,  6.53169805e+00,  1.16130215e+01,\n",
       "        2.36382000e+01,  0.00000000e+00,  0.00000000e+00, -2.21883272e+01,\n",
       "       -5.05402856e+00,  5.12594984e+01,  1.62896388e+01, -6.04303587e+01,\n",
       "        0.00000000e+00,  0.00000000e+00,  1.53291835e+02,  2.57654905e+01,\n",
       "        9.77695229e+00, -7.92852840e+00,  0.00000000e+00,  0.00000000e+00,\n",
       "       -5.89991499e+01, -8.28442340e+00,  1.19070676e+01,  0.00000000e+00,\n",
       "        0.00000000e+00, -2.58027387e+01,  3.79891599e+01,  0.00000000e+00,\n",
       "        0.00000000e+00,  8.16014282e+00,  0.00000000e+00,  0.00000000e+00,\n",
       "        0.00000000e+00,  0.00000000e+00,  0.00000000e+00, -3.95497112e+01,\n",
       "        3.46382656e+01,  1.82799438e+01,  2.67362442e+01,  1.62083145e+01,\n",
       "       -4.77955611e+00, -1.14836031e+01, -1.39385621e+01,  0.00000000e+00,\n",
       "        0.00000000e+00,  2.22982120e+01,  2.21463274e+01,  1.17829310e+01,\n",
       "       -1.03233276e+01, -4.17492823e+00, -5.01579812e+01, -3.88148255e+01,\n",
       "        0.00000000e+00,  0.00000000e+00, -3.04072373e+01,  1.22542033e+01,\n",
       "       -1.19279201e-01, -3.20650702e+01, -5.96322938e+00, -2.16211727e+01,\n",
       "        0.00000000e+00,  0.00000000e+00, -4.68954469e+01, -8.96515580e+00,\n",
       "       -2.79474433e+01, -1.83384764e+01,  1.86706002e+01,  0.00000000e+00,\n",
       "        0.00000000e+00, -1.72345240e+01,  1.51617919e+01, -4.33392836e+00,\n",
       "       -2.32394661e+00,  0.00000000e+00,  0.00000000e+00,  3.62482130e+00,\n",
       "        1.68328315e+00, -5.39147619e+00,  0.00000000e+00,  0.00000000e+00,\n",
       "        2.86375170e+01,  1.49093031e+01,  0.00000000e+00,  0.00000000e+00,\n",
       "       -1.27644403e+01,  0.00000000e+00,  0.00000000e+00,  0.00000000e+00,\n",
       "        0.00000000e+00,  0.00000000e+00, -2.03976626e-01, -3.91510470e+01,\n",
       "       -9.12392500e+00,  1.40345856e+01,  4.73673241e+01, -4.28044975e+00,\n",
       "       -3.31690532e+01,  0.00000000e+00,  0.00000000e+00,  5.37980570e+00,\n",
       "        1.93325416e+01,  4.05440804e+01,  1.00754622e+00, -4.24453309e+00,\n",
       "       -8.88123136e+00,  0.00000000e+00,  0.00000000e+00, -1.75813623e+01,\n",
       "       -3.28684340e+01, -9.01460716e+01,  3.39442665e+01,  1.71250101e+01,\n",
       "        0.00000000e+00,  0.00000000e+00, -2.07363876e+01, -8.25881004e+01,\n",
       "        9.22279218e+00, -2.53498431e+01,  0.00000000e+00,  0.00000000e+00,\n",
       "        1.93492362e+01, -7.29217943e+00, -3.82981444e+00,  0.00000000e+00,\n",
       "        0.00000000e+00, -6.32537397e+00, -5.50820148e+00,  0.00000000e+00,\n",
       "        0.00000000e+00,  3.12828726e+01,  0.00000000e+00,  0.00000000e+00,\n",
       "        0.00000000e+00,  0.00000000e+00,  0.00000000e+00,  1.05164444e+01,\n",
       "       -3.15489018e+01,  6.06938672e+00,  5.13527693e+01,  6.26380541e-01,\n",
       "        1.49038505e+01,  0.00000000e+00,  0.00000000e+00,  3.76104044e+01,\n",
       "        2.74747538e+01, -2.88331720e+01, -1.67950654e+01, -3.53911746e+01,\n",
       "        0.00000000e+00,  0.00000000e+00, -5.05155748e+01, -1.04298458e+02,\n",
       "        1.70705797e+00,  7.45268949e-01,  0.00000000e+00,  0.00000000e+00,\n",
       "        5.34440733e+00, -5.43656323e+00,  6.24950232e+00,  0.00000000e+00,\n",
       "        0.00000000e+00,  9.87850353e+00, -1.35852448e+01,  0.00000000e+00,\n",
       "        0.00000000e+00,  1.84068548e+01,  0.00000000e+00,  0.00000000e+00,\n",
       "        0.00000000e+00,  0.00000000e+00,  0.00000000e+00,  2.53786274e+01,\n",
       "       -6.23409651e+01, -2.70087695e+01,  1.73821353e+01,  1.75295661e+01,\n",
       "        0.00000000e+00,  0.00000000e+00,  2.24784531e+01,  9.78982032e+01,\n",
       "       -5.63621219e+01,  2.55147943e+01,  0.00000000e+00,  0.00000000e+00,\n",
       "        4.83932412e+01, -5.84313997e-02, -2.14477310e+00,  0.00000000e+00,\n",
       "        0.00000000e+00,  1.57570923e+00,  1.70003562e+01,  0.00000000e+00,\n",
       "        0.00000000e+00, -2.24045504e+01,  0.00000000e+00,  0.00000000e+00,\n",
       "        0.00000000e+00,  0.00000000e+00,  0.00000000e+00,  3.55946782e+01,\n",
       "        4.04118272e+01, -5.85656278e+01, -2.77004537e+01,  0.00000000e+00,\n",
       "        0.00000000e+00, -3.50666183e+01,  4.99969610e+01, -8.97658990e+00,\n",
       "        0.00000000e+00,  0.00000000e+00,  3.66061080e+00,  1.86959643e+01,\n",
       "        0.00000000e+00,  0.00000000e+00, -1.39196211e+00,  0.00000000e+00,\n",
       "        0.00000000e+00,  0.00000000e+00,  0.00000000e+00,  0.00000000e+00,\n",
       "        3.11394482e+00, -5.01382240e+00, -7.16287559e+00,  0.00000000e+00,\n",
       "        0.00000000e+00, -2.14387538e+01,  1.20785252e+01,  0.00000000e+00,\n",
       "        0.00000000e+00, -2.79321428e+00,  0.00000000e+00,  0.00000000e+00,\n",
       "        0.00000000e+00,  0.00000000e+00,  0.00000000e+00,  2.27173410e+00,\n",
       "       -1.30176548e+01,  0.00000000e+00,  0.00000000e+00,  3.45933507e+01,\n",
       "        0.00000000e+00,  0.00000000e+00,  0.00000000e+00,  0.00000000e+00,\n",
       "        0.00000000e+00, -5.80588480e+01,  0.00000000e+00,  0.00000000e+00,\n",
       "        0.00000000e+00,  0.00000000e+00,  0.00000000e+00,  0.00000000e+00,\n",
       "        0.00000000e+00,  0.00000000e+00,  0.00000000e+00])"
      ]
     },
     "execution_count": 40,
     "metadata": {},
     "output_type": "execute_result"
    }
   ],
   "source": [
    "# this represents the coefficients of degree 2\n",
    "(model_coefs2[2])"
   ]
  },
  {
   "cell_type": "code",
   "execution_count": 41,
   "metadata": {},
   "outputs": [
    {
     "data": {
      "text/plain": [
       "0.1"
      ]
     },
     "execution_count": 41,
     "metadata": {},
     "output_type": "execute_result"
    }
   ],
   "source": [
    "# this represent the alpha of the best degree\n",
    "alphas2[2]"
   ]
  },
  {
   "cell_type": "markdown",
   "metadata": {
    "id": "MN4RwweLuQYr"
   },
   "source": [
    "### 10a- Evaluate different degrees of ElasticNet CV polynomial regression"
   ]
  },
  {
   "cell_type": "code",
   "execution_count": 42,
   "metadata": {
    "id": "qK9SePrtuQYr"
   },
   "outputs": [
    {
     "name": "stdout",
     "output_type": "stream",
     "text": [
      "1   22.15764398444756   0.033928122729437245\n",
      "1   22.11532275232802   0.033928122729437245\n",
      "1.0\n",
      "2   19.37578077220143   0.033938106840490305\n",
      "2   19.142604412570524   0.033938106840490305\n",
      "1.0\n",
      "3   18.121082718811966   0.03420376268214313\n",
      "3   17.63419512743499   0.03420376268214313\n",
      "1.0\n",
      "4   17.83070781360852   0.03455034783092251\n",
      "4   17.17935036566526   0.03455034783092251\n",
      "0.99\n",
      "5   17.55038159252656   0.03455143960044378\n",
      "5   16.79453581379273   0.03455143960044378\n",
      "0.99\n"
     ]
    }
   ],
   "source": [
    "# TRAINING ERROR PER DEGREE\n",
    "train_rmse_errors3 = []\n",
    "# TEST ERROR PER DEGREE\n",
    "test_rmse_errors3 = []\n",
    "# save the model alpha\n",
    "alphas3 = []\n",
    "# save the model coefficients\n",
    "model_coefs3 = []\n",
    "for i in range(1,6) : \n",
    "    polynomial_converter = PolynomialFeatures(degree=i,include_bias=False)\n",
    "    poly_features = polynomial_converter.fit_transform(X)\n",
    "    \n",
    "    X_train, X_test, y_train, y_test = train_test_split(poly_features, y, test_size=0.3, random_state=101)\n",
    "    scaler.fit(X_train)\n",
    "    X_train = scaler.transform(X_train)\n",
    "    X_test = scaler.transform(X_test)\n",
    "    \n",
    "    elastic_model = ElasticNetCV(l1_ratio=[.1, .5, .7,.9, .95, .99, 1],tol=0.03)\n",
    "    elastic_model.fit(X_train,y_train)\n",
    "    \n",
    "    test_predictions = elastic_model.predict(X_test)\n",
    "    MAE = mean_absolute_error(y_test,test_predictions)\n",
    "    MSE = mean_squared_error(y_test,test_predictions)\n",
    "    RMSE = np.sqrt(MSE)\n",
    "    test_rmse_errors3.append(RMSE)\n",
    "    print(i,\" \",RMSE,\" \", elastic_model.alpha_)\n",
    "    \n",
    "    train_predictions = elastic_model.predict(X_train)\n",
    "    MAE2 = mean_absolute_error(y_train,train_predictions)\n",
    "    MSE2 = mean_squared_error(y_train,train_predictions)\n",
    "    RMSE2 = np.sqrt(MSE2)\n",
    "    train_rmse_errors3.append(RMSE2)\n",
    "    print(i,\" \",RMSE2,\" \", elastic_model.alpha_)\n",
    "    \n",
    "    print(elastic_model.l1_ratio_)\n",
    "    \n",
    "    alphas3.append(elastic_model.alpha_);\n",
    "    model_coefs3.append(elastic_model.coef_)"
   ]
  },
  {
   "cell_type": "markdown",
   "metadata": {
    "id": "JSt5s73XuQYr"
   },
   "source": [
    "### 10b- Choose the best degree and print the errors, model coefficients and ElasticNet parameters."
   ]
  },
  {
   "cell_type": "code",
   "execution_count": 43,
   "metadata": {
    "id": "UkbcQLlLuQYr"
   },
   "outputs": [
    {
     "data": {
      "text/plain": [
       "<matplotlib.legend.Legend at 0x1e426eae190>"
      ]
     },
     "execution_count": 43,
     "metadata": {},
     "output_type": "execute_result"
    },
    {
     "data": {
      "image/png": "[encoded data removed]",
      "text/plain": [
       "<Figure size 432x288 with 1 Axes>"
      ]
     },
     "metadata": {
      "needs_background": "light"
     },
     "output_type": "display_data"
    }
   ],
   "source": [
    "plt.plot(range(1,6),train_rmse_errors3,label='TRAIN')\n",
    "plt.plot(range(1,6),test_rmse_errors3,label='TEST')\n",
    "plt.xlabel(\"Polynomial Complexity\")\n",
    "plt.ylabel(\"RMSE\")\n",
    "plt.legend()"
   ]
  },
  {
   "cell_type": "markdown",
   "metadata": {},
   "source": [
    "It is clear that the best degree is 5\n",
    "---------"
   ]
  },
  {
   "cell_type": "code",
   "execution_count": 44,
   "metadata": {},
   "outputs": [],
   "source": [
    "#RMSE ERROR FOR THIS MODEL (traning & testing datasets)\n",
    "RMSE_test3 = test_rmse_errors3[-1]\n",
    "RMSE_train3 = train_rmse_errors3[-1]"
   ]
  },
  {
   "cell_type": "code",
   "execution_count": 45,
   "metadata": {},
   "outputs": [
    {
     "data": {
      "text/plain": [
       "17.55038159252656"
      ]
     },
     "execution_count": 45,
     "metadata": {},
     "output_type": "execute_result"
    }
   ],
   "source": [
    "# this is the best RMSE for the testing dataset\n",
    "RMSE_test3"
   ]
  },
  {
   "cell_type": "code",
   "execution_count": 46,
   "metadata": {},
   "outputs": [
    {
     "data": {
      "text/plain": [
       "16.79453581379273"
      ]
     },
     "execution_count": 46,
     "metadata": {},
     "output_type": "execute_result"
    }
   ],
   "source": [
    "# this is the best RMSE for the training dataset\n",
    "RMSE_train3"
   ]
  },
  {
   "cell_type": "code",
   "execution_count": 47,
   "metadata": {},
   "outputs": [
    {
     "data": {
      "text/plain": [
       "array([ 5.9722172 , 14.78632199, -3.49608367, ...,  0.        ,\n",
       "        0.        ,  0.        ])"
      ]
     },
     "execution_count": 47,
     "metadata": {},
     "output_type": "execute_result"
    }
   ],
   "source": [
    "# this represents the coefficients\n",
    "(model_coefs2[-1])"
   ]
  },
  {
   "cell_type": "code",
   "execution_count": 48,
   "metadata": {},
   "outputs": [
    {
     "data": {
      "text/plain": [
       "0.03455143960044378"
      ]
     },
     "execution_count": 48,
     "metadata": {},
     "output_type": "execute_result"
    }
   ],
   "source": [
    "# this represent the alpha\n",
    "alphas3[-1]"
   ]
  },
  {
   "cell_type": "markdown",
   "metadata": {
    "id": "O_cuFINquQYs"
   },
   "source": [
    "### 11- Compare the errors from the 3 regularization techniques, and save the best model."
   ]
  },
  {
   "cell_type": "markdown",
   "metadata": {
    "collapsed": true,
    "id": "qn58GoGpuQYs"
   },
   "source": [
    "Now, we have tried different regularization techniques and let's recap the best degree for each one\n",
    "----\n",
    "----->Lasso : the best one was degree 6, but the difference between degree 5 and 6 is not much, so we will consider \n",
    "              degree 5 to make the model a liitle simpler\n",
    "              this degree has RMSE for training dataset equals 23.137164456305644, and 22.369820982679986 for testing\n",
    "              \n",
    "----->Ridge : the best one was degree 3, which has RMSE for training dataset equals 15.659403038696752,\n",
    "              and 17.0905176844131 for the testing dataset\n",
    "              \n",
    "----->ElasticNet : the best one was degree 5, which has RMSE for training dataset equals 16.79453581379273,\n",
    "                   and 17.55038159252656 for the testing dataset           \n",
    "              "
   ]
  },
  {
   "cell_type": "markdown",
   "metadata": {},
   "source": [
    "As, we saw that the error for the Ridge technique was the lowest one in both training and testing datasets,\n",
    "so we will choose this technique to be the best model"
   ]
  },
  {
   "cell_type": "markdown",
   "metadata": {},
   "source": [
    "Now, let's train this model with degree 3 again before saving"
   ]
  },
  {
   "cell_type": "code",
   "execution_count": 100,
   "metadata": {},
   "outputs": [],
   "source": [
    "polynomial_converter = PolynomialFeatures(degree=3,include_bias=False)\n",
    "poly_features = polynomial_converter.fit_transform(X)\n",
    "#print(poly_features.shape)    \n",
    "  \n",
    "X_train, X_test, y_train, y_test = train_test_split(poly_features, y, test_size=0.3, random_state=101)\n",
    "scaler = StandardScaler()\n",
    "scaler.fit(X_train)\n",
    "X_train = scaler.transform(X_train)\n",
    "X_test = scaler.transform(X_test)\n",
    "\n",
    "    \n",
    "ridge_cv_model = RidgeCV(alphas=(0.1, 1.0, 10.0),scoring='neg_mean_absolute_error')\n",
    "ridge_cv_model = ridge_cv_model.fit(X_train,y_train)"
   ]
  },
  {
   "cell_type": "code",
   "execution_count": 101,
   "metadata": {},
   "outputs": [],
   "source": [
    "from joblib import dump, load"
   ]
  },
  {
   "cell_type": "code",
   "execution_count": 102,
   "metadata": {},
   "outputs": [
    {
     "data": {
      "text/plain": [
       "['scaler.joblib']"
      ]
     },
     "execution_count": 102,
     "metadata": {},
     "output_type": "execute_result"
    }
   ],
   "source": [
    "dump(ridge_cv_model, 'ridge_model.joblib') \n",
    "dump(scaler, 'scaler.joblib') "
   ]
  },
  {
   "cell_type": "markdown",
   "metadata": {
    "id": "IUGAAZY4uQYs"
   },
   "source": [
    "### 12- Load the best model and test it on a sample that you manually created it."
   ]
  },
  {
   "cell_type": "code",
   "execution_count": 103,
   "metadata": {
    "id": "SIw1mo3kuQYs"
   },
   "outputs": [],
   "source": [
    "loaded_model = load('ridge_model.joblib')"
   ]
  },
  {
   "cell_type": "code",
   "execution_count": 104,
   "metadata": {},
   "outputs": [],
   "source": [
    "scaler = load('scaler.joblib')"
   ]
  },
  {
   "cell_type": "code",
   "execution_count": 105,
   "metadata": {},
   "outputs": [
    {
     "data": {
      "text/html": [
       "<div>\n",
       "<style scoped>\n",
       "    .dataframe tbody tr th:only-of-type {\n",
       "        vertical-align: middle;\n",
       "    }\n",
       "\n",
       "    .dataframe tbody tr th {\n",
       "        vertical-align: top;\n",
       "    }\n",
       "\n",
       "    .dataframe thead th {\n",
       "        text-align: right;\n",
       "    }\n",
       "</style>\n",
       "<table border=\"1\" class=\"dataframe\">\n",
       "  <thead>\n",
       "    <tr style=\"text-align: right;\">\n",
       "      <th></th>\n",
       "      <th>x1</th>\n",
       "      <th>x2</th>\n",
       "      <th>x3</th>\n",
       "      <th>x4</th>\n",
       "      <th>x5</th>\n",
       "      <th>x6</th>\n",
       "      <th>x7</th>\n",
       "      <th>x8</th>\n",
       "      <th>x9</th>\n",
       "      <th>x10</th>\n",
       "      <th>x11</th>\n",
       "      <th>x12</th>\n",
       "      <th>x13</th>\n",
       "      <th>x14</th>\n",
       "    </tr>\n",
       "  </thead>\n",
       "  <tbody>\n",
       "    <tr>\n",
       "      <th>0</th>\n",
       "      <td>1360.0</td>\n",
       "      <td>1046.0</td>\n",
       "      <td>1056.0</td>\n",
       "      <td>1692.0</td>\n",
       "      <td>1268.0</td>\n",
       "      <td>13.6</td>\n",
       "      <td>48.9</td>\n",
       "      <td>0.7578</td>\n",
       "      <td>3</td>\n",
       "      <td>10</td>\n",
       "      <td>2004</td>\n",
       "      <td>18</td>\n",
       "      <td>0</td>\n",
       "      <td>0</td>\n",
       "    </tr>\n",
       "  </tbody>\n",
       "</table>\n",
       "</div>"
      ],
      "text/plain": [
       "       x1      x2      x3      x4      x5    x6    x7      x8  x9  x10   x11  \\\n",
       "0  1360.0  1046.0  1056.0  1692.0  1268.0  13.6  48.9  0.7578   3   10  2004   \n",
       "\n",
       "   x12  x13  x14  \n",
       "0   18    0    0  "
      ]
     },
     "execution_count": 105,
     "metadata": {},
     "output_type": "execute_result"
    }
   ],
   "source": [
    "mySample = [[1360.0 ,1046.0, 1056.0, 1692.0, 1268.0, 13.6, 48.9, 0.7578, 3, 10, 2004, 18, 0, 0]]\n",
    "mySample = pd.DataFrame(mySample, columns=['x1','x2','x3','x4','x5','x6','x7','x8','x9','x10','x11','x12','x13','x14'])\n",
    "mySample"
   ]
  },
  {
   "cell_type": "code",
   "execution_count": 106,
   "metadata": {},
   "outputs": [
    {
     "data": {
      "text/plain": [
       "array([[1.36000000e+03, 1.04600000e+03, 1.05600000e+03, 1.69200000e+03,\n",
       "        1.26800000e+03, 1.36000000e+01, 4.89000000e+01, 7.57800000e-01,\n",
       "        3.00000000e+00, 1.00000000e+01, 2.00400000e+03, 1.80000000e+01,\n",
       "        0.00000000e+00, 0.00000000e+00, 1.84960000e+06, 1.42256000e+06,\n",
       "        1.43616000e+06, 2.30112000e+06, 1.72448000e+06, 1.84960000e+04,\n",
       "        6.65040000e+04, 1.03060800e+03, 4.08000000e+03, 1.36000000e+04,\n",
       "        2.72544000e+06, 2.44800000e+04, 0.00000000e+00, 0.00000000e+00,\n",
       "        1.09411600e+06, 1.10457600e+06, 1.76983200e+06, 1.32632800e+06,\n",
       "        1.42256000e+04, 5.11494000e+04, 7.92658800e+02, 3.13800000e+03,\n",
       "        1.04600000e+04, 2.09618400e+06, 1.88280000e+04, 0.00000000e+00,\n",
       "        0.00000000e+00, 1.11513600e+06, 1.78675200e+06, 1.33900800e+06,\n",
       "        1.43616000e+04, 5.16384000e+04, 8.00236800e+02, 3.16800000e+03,\n",
       "        1.05600000e+04, 2.11622400e+06, 1.90080000e+04, 0.00000000e+00,\n",
       "        0.00000000e+00, 2.86286400e+06, 2.14545600e+06, 2.30112000e+04,\n",
       "        8.27388000e+04, 1.28219760e+03, 5.07600000e+03, 1.69200000e+04,\n",
       "        3.39076800e+06, 3.04560000e+04, 0.00000000e+00, 0.00000000e+00,\n",
       "        1.60782400e+06, 1.72448000e+04, 6.20052000e+04, 9.60890400e+02,\n",
       "        3.80400000e+03, 1.26800000e+04, 2.54107200e+06, 2.28240000e+04,\n",
       "        0.00000000e+00, 0.00000000e+00, 1.84960000e+02, 6.65040000e+02,\n",
       "        1.03060800e+01, 4.08000000e+01, 1.36000000e+02, 2.72544000e+04,\n",
       "        2.44800000e+02, 0.00000000e+00, 0.00000000e+00, 2.39121000e+03,\n",
       "        3.70564200e+01, 1.46700000e+02, 4.89000000e+02, 9.79956000e+04,\n",
       "        8.80200000e+02, 0.00000000e+00, 0.00000000e+00, 5.74260840e-01,\n",
       "        2.27340000e+00, 7.57800000e+00, 1.51863120e+03, 1.36404000e+01,\n",
       "        0.00000000e+00, 0.00000000e+00, 9.00000000e+00, 3.00000000e+01,\n",
       "        6.01200000e+03, 5.40000000e+01, 0.00000000e+00, 0.00000000e+00,\n",
       "        1.00000000e+02, 2.00400000e+04, 1.80000000e+02, 0.00000000e+00,\n",
       "        0.00000000e+00, 4.01601600e+06, 3.60720000e+04, 0.00000000e+00,\n",
       "        0.00000000e+00, 3.24000000e+02, 0.00000000e+00, 0.00000000e+00,\n",
       "        0.00000000e+00, 0.00000000e+00, 0.00000000e+00, 2.51545600e+09,\n",
       "        1.93468160e+09, 1.95317760e+09, 3.12952320e+09, 2.34529280e+09,\n",
       "        2.51545600e+07, 9.04454400e+07, 1.40162688e+06, 5.54880000e+06,\n",
       "        1.84960000e+07, 3.70659840e+09, 3.32928000e+07, 0.00000000e+00,\n",
       "        0.00000000e+00, 1.48799776e+09, 1.50222336e+09, 2.40697152e+09,\n",
       "        1.80380608e+09, 1.93468160e+07, 6.95631840e+07, 1.07801597e+06,\n",
       "        4.26768000e+06, 1.42256000e+07, 2.85081024e+09, 2.56060800e+07,\n",
       "        0.00000000e+00, 0.00000000e+00, 1.51658496e+09, 2.42998272e+09,\n",
       "        1.82105088e+09, 1.95317760e+07, 7.02282240e+07, 1.08832205e+06,\n",
       "        4.30848000e+06, 1.43616000e+07, 2.87806464e+09, 2.58508800e+07,\n",
       "        0.00000000e+00, 0.00000000e+00, 3.89349504e+09, 2.91782016e+09,\n",
       "        3.12952320e+07, 1.12524768e+08, 1.74378874e+06, 6.90336000e+06,\n",
       "        2.30112000e+07, 4.61144448e+09, 4.14201600e+07, 0.00000000e+00,\n",
       "        0.00000000e+00, 2.18664064e+09, 2.34529280e+07, 8.43270720e+07,\n",
       "        1.30681094e+06, 5.17344000e+06, 1.72448000e+07, 3.45585792e+09,\n",
       "        3.10406400e+07, 0.00000000e+00, 0.00000000e+00, 2.51545600e+05,\n",
       "        9.04454400e+05, 1.40162688e+04, 5.54880000e+04, 1.84960000e+05,\n",
       "        3.70659840e+07, 3.32928000e+05, 0.00000000e+00, 0.00000000e+00,\n",
       "        3.25204560e+06, 5.03967312e+04, 1.99512000e+05, 6.65040000e+05,\n",
       "        1.33274016e+08, 1.19707200e+06, 0.00000000e+00, 0.00000000e+00,\n",
       "        7.80994742e+02, 3.09182400e+03, 1.03060800e+04, 2.06533843e+06,\n",
       "        1.85509440e+04, 0.00000000e+00, 0.00000000e+00, 1.22400000e+04,\n",
       "        4.08000000e+04, 8.17632000e+06, 7.34400000e+04, 0.00000000e+00,\n",
       "        0.00000000e+00, 1.36000000e+05, 2.72544000e+07, 2.44800000e+05,\n",
       "        0.00000000e+00, 0.00000000e+00, 5.46178176e+09, 4.90579200e+07,\n",
       "        0.00000000e+00, 0.00000000e+00, 4.40640000e+05, 0.00000000e+00,\n",
       "        0.00000000e+00, 0.00000000e+00, 0.00000000e+00, 0.00000000e+00,\n",
       "        1.14444534e+09, 1.15538650e+09, 1.85124427e+09, 1.38733909e+09,\n",
       "        1.48799776e+07, 5.35022724e+07, 8.29121105e+05, 3.28234800e+06,\n",
       "        1.09411600e+07, 2.19260846e+09, 1.96940880e+07, 0.00000000e+00,\n",
       "        0.00000000e+00, 1.16643226e+09, 1.86894259e+09, 1.40060237e+09,\n",
       "        1.50222336e+07, 5.40137664e+07, 8.37047693e+05, 3.31372800e+06,\n",
       "        1.10457600e+07, 2.21357030e+09, 1.98823680e+07, 0.00000000e+00,\n",
       "        0.00000000e+00, 2.99455574e+09, 2.24414698e+09, 2.40697152e+07,\n",
       "        8.65447848e+07, 1.34117869e+06, 5.30949600e+06, 1.76983200e+07,\n",
       "        3.54674333e+09, 3.18569760e+07, 0.00000000e+00, 0.00000000e+00,\n",
       "        1.68178390e+09, 1.80380608e+07, 6.48574392e+07, 1.00509136e+06,\n",
       "        3.97898400e+06, 1.32632800e+07, 2.65796131e+09, 2.38739040e+07,\n",
       "        0.00000000e+00, 0.00000000e+00, 1.93468160e+05, 6.95631840e+05,\n",
       "        1.07801597e+04, 4.26768000e+04, 1.42256000e+05, 2.85081024e+07,\n",
       "        2.56060800e+05, 0.00000000e+00, 0.00000000e+00, 2.50120566e+06,\n",
       "        3.87610153e+04, 1.53448200e+05, 5.11494000e+05, 1.02503398e+08,\n",
       "        9.20689200e+05, 0.00000000e+00, 0.00000000e+00, 6.00676839e+02,\n",
       "        2.37797640e+03, 7.92658800e+03, 1.58848824e+06, 1.42678584e+04,\n",
       "        0.00000000e+00, 0.00000000e+00, 9.41400000e+03, 3.13800000e+04,\n",
       "        6.28855200e+06, 5.64840000e+04, 0.00000000e+00, 0.00000000e+00,\n",
       "        1.04600000e+05, 2.09618400e+07, 1.88280000e+05, 0.00000000e+00,\n",
       "        0.00000000e+00, 4.20075274e+09, 3.77313120e+07, 0.00000000e+00,\n",
       "        0.00000000e+00, 3.38904000e+05, 0.00000000e+00, 0.00000000e+00,\n",
       "        0.00000000e+00, 0.00000000e+00, 0.00000000e+00, 1.17758362e+09,\n",
       "        1.88681011e+09, 1.41399245e+09, 1.51658496e+07, 5.45301504e+07,\n",
       "        8.45050061e+05, 3.34540800e+06, 1.11513600e+07, 2.23473254e+09,\n",
       "        2.00724480e+07, 0.00000000e+00, 0.00000000e+00, 3.02318438e+09,\n",
       "        2.26560154e+09, 2.42998272e+07, 8.73721728e+07, 1.35400067e+06,\n",
       "        5.36025600e+06, 1.78675200e+07, 3.58065101e+09, 3.21615360e+07,\n",
       "        0.00000000e+00, 0.00000000e+00, 1.69786214e+09, 1.82105088e+07,\n",
       "        6.54774912e+07, 1.01470026e+06, 4.01702400e+06, 1.33900800e+07,\n",
       "        2.68337203e+09, 2.41021440e+07, 0.00000000e+00, 0.00000000e+00,\n",
       "        1.95317760e+05, 7.02282240e+05, 1.08832205e+04, 4.30848000e+04,\n",
       "        1.43616000e+05, 2.87806464e+07, 2.58508800e+05, 0.00000000e+00,\n",
       "        0.00000000e+00, 2.52511776e+06, 3.91315795e+04, 1.54915200e+05,\n",
       "        5.16384000e+05, 1.03483354e+08, 9.29491200e+05, 0.00000000e+00,\n",
       "        0.00000000e+00, 6.06419447e+02, 2.40071040e+03, 8.00236800e+03,\n",
       "        1.60367455e+06, 1.44042624e+04, 0.00000000e+00, 0.00000000e+00,\n",
       "        9.50400000e+03, 3.16800000e+04, 6.34867200e+06, 5.70240000e+04,\n",
       "        0.00000000e+00, 0.00000000e+00, 1.05600000e+05, 2.11622400e+07,\n",
       "        1.90080000e+05, 0.00000000e+00, 0.00000000e+00, 4.24091290e+09,\n",
       "        3.80920320e+07, 0.00000000e+00, 0.00000000e+00, 3.42144000e+05,\n",
       "        0.00000000e+00, 0.00000000e+00, 0.00000000e+00, 0.00000000e+00,\n",
       "        0.00000000e+00, 4.84396589e+09, 3.63011155e+09, 3.89349504e+07,\n",
       "        1.39994050e+08, 2.16947834e+06, 8.58859200e+06, 2.86286400e+07,\n",
       "        5.73717946e+09, 5.15315520e+07, 0.00000000e+00, 0.00000000e+00,\n",
       "        2.72043821e+09, 2.91782016e+07, 1.04912798e+08, 1.62582656e+06,\n",
       "        6.43636800e+06, 2.14545600e+07, 4.29949382e+09, 3.86182080e+07,\n",
       "        0.00000000e+00, 0.00000000e+00, 3.12952320e+05, 1.12524768e+06,\n",
       "        1.74378874e+04, 6.90336000e+04, 2.30112000e+05, 4.61144448e+07,\n",
       "        4.14201600e+05, 0.00000000e+00, 0.00000000e+00, 4.04592732e+06,\n",
       "        6.26994626e+04, 2.48216400e+05, 8.27388000e+05, 1.65808555e+08,\n",
       "        1.48929840e+06, 0.00000000e+00, 0.00000000e+00, 9.71649341e+02,\n",
       "        3.84659280e+03, 1.28219760e+04, 2.56952399e+06, 2.30795568e+04,\n",
       "        0.00000000e+00, 0.00000000e+00, 1.52280000e+04, 5.07600000e+04,\n",
       "        1.01723040e+07, 9.13680000e+04, 0.00000000e+00, 0.00000000e+00,\n",
       "        1.69200000e+05, 3.39076800e+07, 3.04560000e+05, 0.00000000e+00,\n",
       "        0.00000000e+00, 6.79509907e+09, 6.10338240e+07, 0.00000000e+00,\n",
       "        0.00000000e+00, 5.48208000e+05, 0.00000000e+00, 0.00000000e+00,\n",
       "        0.00000000e+00, 0.00000000e+00, 0.00000000e+00, 2.03872083e+09,\n",
       "        2.18664064e+07, 7.86225936e+07, 1.21840903e+06, 4.82347200e+06,\n",
       "        1.60782400e+07, 3.22207930e+09, 2.89408320e+07, 0.00000000e+00,\n",
       "        0.00000000e+00, 2.34529280e+05, 8.43270720e+05, 1.30681094e+04,\n",
       "        5.17344000e+04, 1.72448000e+05, 3.45585792e+07, 3.10406400e+05,\n",
       "        0.00000000e+00, 0.00000000e+00, 3.03205428e+06, 4.69875406e+04,\n",
       "        1.86015600e+05, 6.20052000e+05, 1.24258421e+08, 1.11609360e+06,\n",
       "        0.00000000e+00, 0.00000000e+00, 7.28162745e+02, 2.88267120e+03,\n",
       "        9.60890400e+03, 1.92562436e+06, 1.72960272e+04, 0.00000000e+00,\n",
       "        0.00000000e+00, 1.14120000e+04, 3.80400000e+04, 7.62321600e+06,\n",
       "        6.84720000e+04, 0.00000000e+00, 0.00000000e+00, 1.26800000e+05,\n",
       "        2.54107200e+07, 2.28240000e+05, 0.00000000e+00, 0.00000000e+00,\n",
       "        5.09230829e+09, 4.57392960e+07, 0.00000000e+00, 0.00000000e+00,\n",
       "        4.10832000e+05, 0.00000000e+00, 0.00000000e+00, 0.00000000e+00,\n",
       "        0.00000000e+00, 0.00000000e+00, 2.51545600e+03, 9.04454400e+03,\n",
       "        1.40162688e+02, 5.54880000e+02, 1.84960000e+03, 3.70659840e+05,\n",
       "        3.32928000e+03, 0.00000000e+00, 0.00000000e+00, 3.25204560e+04,\n",
       "        5.03967312e+02, 1.99512000e+03, 6.65040000e+03, 1.33274016e+06,\n",
       "        1.19707200e+04, 0.00000000e+00, 0.00000000e+00, 7.80994742e+00,\n",
       "        3.09182400e+01, 1.03060800e+02, 2.06533843e+04, 1.85509440e+02,\n",
       "        0.00000000e+00, 0.00000000e+00, 1.22400000e+02, 4.08000000e+02,\n",
       "        8.17632000e+04, 7.34400000e+02, 0.00000000e+00, 0.00000000e+00,\n",
       "        1.36000000e+03, 2.72544000e+05, 2.44800000e+03, 0.00000000e+00,\n",
       "        0.00000000e+00, 5.46178176e+07, 4.90579200e+05, 0.00000000e+00,\n",
       "        0.00000000e+00, 4.40640000e+03, 0.00000000e+00, 0.00000000e+00,\n",
       "        0.00000000e+00, 0.00000000e+00, 0.00000000e+00, 1.16930169e+05,\n",
       "        1.81205894e+03, 7.17363000e+03, 2.39121000e+04, 4.79198484e+06,\n",
       "        4.30417800e+04, 0.00000000e+00, 0.00000000e+00, 2.80813551e+01,\n",
       "        1.11169260e+02, 3.70564200e+02, 7.42610657e+04, 6.67015560e+02,\n",
       "        0.00000000e+00, 0.00000000e+00, 4.40100000e+02, 1.46700000e+03,\n",
       "        2.93986800e+05, 2.64060000e+03, 0.00000000e+00, 0.00000000e+00,\n",
       "        4.89000000e+03, 9.79956000e+05, 8.80200000e+03, 0.00000000e+00,\n",
       "        0.00000000e+00, 1.96383182e+08, 1.76392080e+06, 0.00000000e+00,\n",
       "        0.00000000e+00, 1.58436000e+04, 0.00000000e+00, 0.00000000e+00,\n",
       "        0.00000000e+00, 0.00000000e+00, 0.00000000e+00, 4.35174865e-01,\n",
       "        1.72278252e+00, 5.74260840e+00, 1.15081872e+03, 1.03366951e+01,\n",
       "        0.00000000e+00, 0.00000000e+00, 6.82020000e+00, 2.27340000e+01,\n",
       "        4.55589360e+03, 4.09212000e+01, 0.00000000e+00, 0.00000000e+00,\n",
       "        7.57800000e+01, 1.51863120e+04, 1.36404000e+02, 0.00000000e+00,\n",
       "        0.00000000e+00, 3.04333692e+06, 2.73353616e+04, 0.00000000e+00,\n",
       "        0.00000000e+00, 2.45527200e+02, 0.00000000e+00, 0.00000000e+00,\n",
       "        0.00000000e+00, 0.00000000e+00, 0.00000000e+00, 2.70000000e+01,\n",
       "        9.00000000e+01, 1.80360000e+04, 1.62000000e+02, 0.00000000e+00,\n",
       "        0.00000000e+00, 3.00000000e+02, 6.01200000e+04, 5.40000000e+02,\n",
       "        0.00000000e+00, 0.00000000e+00, 1.20480480e+07, 1.08216000e+05,\n",
       "        0.00000000e+00, 0.00000000e+00, 9.72000000e+02, 0.00000000e+00,\n",
       "        0.00000000e+00, 0.00000000e+00, 0.00000000e+00, 0.00000000e+00,\n",
       "        1.00000000e+03, 2.00400000e+05, 1.80000000e+03, 0.00000000e+00,\n",
       "        0.00000000e+00, 4.01601600e+07, 3.60720000e+05, 0.00000000e+00,\n",
       "        0.00000000e+00, 3.24000000e+03, 0.00000000e+00, 0.00000000e+00,\n",
       "        0.00000000e+00, 0.00000000e+00, 0.00000000e+00, 8.04809606e+09,\n",
       "        7.22882880e+07, 0.00000000e+00, 0.00000000e+00, 6.49296000e+05,\n",
       "        0.00000000e+00, 0.00000000e+00, 0.00000000e+00, 0.00000000e+00,\n",
       "        0.00000000e+00, 5.83200000e+03, 0.00000000e+00, 0.00000000e+00,\n",
       "        0.00000000e+00, 0.00000000e+00, 0.00000000e+00, 0.00000000e+00,\n",
       "        0.00000000e+00, 0.00000000e+00, 0.00000000e+00]])"
      ]
     },
     "execution_count": 106,
     "metadata": {},
     "output_type": "execute_result"
    }
   ],
   "source": [
    "polynomial_converter = PolynomialFeatures(degree=3,include_bias=False)\n",
    "mySample = polynomial_converter.fit_transform(mySample)\n",
    "mySample.shape\n",
    "mySample  "
   ]
  },
  {
   "cell_type": "code",
   "execution_count": 107,
   "metadata": {},
   "outputs": [
    {
     "data": {
      "text/plain": [
       "array([[ 1.13849605e+00,  3.56475873e-01,  8.86831098e-01,\n",
       "         6.81412243e-01,  5.49875802e-01, -4.77163802e-01,\n",
       "         1.51672230e-02, -5.73571874e-01, -8.64990797e-01,\n",
       "        -6.92346036e-01, -6.28692918e-01,  9.05392509e-01,\n",
       "         0.00000000e+00,  0.00000000e+00,  1.08278535e+00,\n",
       "         5.96324095e-01,  3.31933504e+00,  9.23840838e-01,\n",
       "         6.70474369e-01, -1.40593204e-01,  4.94139341e-01,\n",
       "        -1.54592414e-01, -6.09482908e-01, -4.07219490e-01,\n",
       "         1.13762222e+00,  1.25971570e+00,  0.00000000e+00,\n",
       "         0.00000000e+00,  2.16551329e-01,  2.93519763e+00,\n",
       "         4.35523883e-01,  3.37204985e-01, -3.17047241e-01,\n",
       "         2.44777658e-01, -3.32296803e-01, -6.69336469e-01,\n",
       "        -5.00810095e-01,  3.56012558e-01,  8.62292181e-01,\n",
       "         0.00000000e+00,  0.00000000e+00,  6.86417324e-01,\n",
       "         2.05366069e+00,  3.19666851e+00, -1.38777690e-02,\n",
       "         6.09296221e-01,  2.46762844e-02, -5.14758048e-01,\n",
       "        -3.13124501e-01,  8.86399312e-01,  1.70522356e+00,\n",
       "         0.00000000e+00,  0.00000000e+00,  5.93350690e-01,\n",
       "         5.99452841e-01, -2.78815882e-01,  4.08413292e-01,\n",
       "        -2.87025990e-01, -6.98396714e-01, -4.47342152e-01,\n",
       "         6.81160469e-01,  1.11469966e+00,  0.00000000e+00,\n",
       "         0.00000000e+00,  3.65080663e-01, -1.20222174e-01,\n",
       "         3.47367137e-01, -1.41005989e-01, -5.16437161e-01,\n",
       "        -3.47739372e-01,  5.49411667e-01,  1.01673873e+00,\n",
       "         0.00000000e+00,  0.00000000e+00, -5.92356087e-01,\n",
       "        -3.33750883e-01, -6.49279365e-01, -8.94493043e-01,\n",
       "        -6.65387791e-01, -4.77360700e-01,  1.11147758e-01,\n",
       "         0.00000000e+00,  0.00000000e+00, -1.62081141e-01,\n",
       "        -4.25312600e-01, -6.36183704e-01, -5.38386721e-01,\n",
       "         1.47428478e-02,  8.77023597e-01,  0.00000000e+00,\n",
       "         0.00000000e+00, -6.48057846e-01, -8.66754768e-01,\n",
       "        -7.19724460e-01, -5.73880999e-01,  2.24391036e-01,\n",
       "         0.00000000e+00,  0.00000000e+00, -8.44394307e-01,\n",
       "        -8.08114307e-01, -8.65154374e-01, -2.70552624e-01,\n",
       "         0.00000000e+00,  0.00000000e+00, -8.27139875e-01,\n",
       "        -6.92506446e-01, -6.25845002e-02,  0.00000000e+00,\n",
       "         0.00000000e+00, -6.28692918e-01,  9.05022540e-01,\n",
       "         0.00000000e+00,  0.00000000e+00,  8.42963666e-01,\n",
       "         0.00000000e+00,  0.00000000e+00,  0.00000000e+00,\n",
       "         0.00000000e+00,  0.00000000e+00,  9.89722190e-01,\n",
       "         6.29977347e-01,  4.29792465e+00,  9.11839692e-01,\n",
       "         6.63794160e-01,  1.42749394e-01,  6.91501302e-01,\n",
       "         1.35789614e-01, -3.54434338e-01, -1.45251624e-01,\n",
       "         1.08230351e+00,  1.38565581e+00,  0.00000000e+00,\n",
       "         0.00000000e+00,  3.22741835e-01,  3.16928590e+00,\n",
       "         5.32720927e-01,  3.87535523e-01, -8.08746223e-02,\n",
       "         4.33519726e-01, -7.02751109e-02, -4.39781940e-01,\n",
       "        -2.62486337e-01,  5.96001952e-01,  9.91395978e-01,\n",
       "         0.00000000e+00,  0.00000000e+00,  1.82113564e+00,\n",
       "         3.31739598e+00,  2.93911836e+00,  5.12717523e-01,\n",
       "         1.54475830e+00,  7.06090550e-01, -2.74069852e-01,\n",
       "         3.63964970e-02,  3.31935158e+00,  2.56833146e+00,\n",
       "         0.00000000e+00,  0.00000000e+00,  7.18629634e-01,\n",
       "         6.24652723e-01, -2.47198649e-02,  6.50482495e-01,\n",
       "        -1.49503822e-02, -4.35378633e-01, -1.93219737e-01,\n",
       "         9.23599275e-01,  1.29264271e+00,  0.00000000e+00,\n",
       "         0.00000000e+00,  3.90639423e-01,  8.49947121e-02,\n",
       "         4.76328031e-01,  6.19209878e-02, -3.30503972e-01,\n",
       "        -1.53910146e-01,  6.70121512e-01,  1.06674578e+00,\n",
       "         0.00000000e+00,  0.00000000e+00, -4.78770511e-01,\n",
       "         5.73709926e-02, -4.89318657e-01, -7.46334613e-01,\n",
       "        -5.20592847e-01, -1.40756671e-01,  3.51534566e-01,\n",
       "         0.00000000e+00,  0.00000000e+00,  1.05576207e-01,\n",
       "        -1.49940045e-01, -4.61037689e-01, -3.20040096e-01,\n",
       "         4.93697889e-01,  1.10673690e+00,  0.00000000e+00,\n",
       "         0.00000000e+00, -4.90974482e-01, -7.02299276e-01,\n",
       "        -5.41694283e-01, -1.54809766e-01,  4.49132286e-01,\n",
       "         0.00000000e+00,  0.00000000e+00, -7.49048347e-01,\n",
       "        -6.71390825e-01, -6.09606565e-01, -1.03285957e-01,\n",
       "         0.00000000e+00,  0.00000000e+00, -7.23952134e-01,\n",
       "        -4.07404980e-01,  1.34171133e-01,  0.00000000e+00,\n",
       "         0.00000000e+00,  1.13674663e+00,  1.25931755e+00,\n",
       "         0.00000000e+00,  0.00000000e+00,  1.14088871e+00,\n",
       "         0.00000000e+00,  0.00000000e+00,  0.00000000e+00,\n",
       "         0.00000000e+00,  0.00000000e+00,  7.88959932e-02,\n",
       "         1.84172147e+00,  2.29978885e-01,  1.53929504e-01,\n",
       "        -2.47549450e-01,  1.93232844e-01, -2.30568986e-01,\n",
       "        -5.00776917e-01, -3.57791480e-01,  2.16324791e-01,\n",
       "         6.31104807e-01,  0.00000000e+00,  0.00000000e+00,\n",
       "         1.94023732e+00,  2.21356215e+00,  2.00601486e+00,\n",
       "         2.11987027e-01,  1.49457385e+00,  3.90286046e-01,\n",
       "        -4.13232591e-01, -1.01267256e-01,  2.93629049e+00,\n",
       "         2.06489010e+00,  0.00000000e+00,  0.00000000e+00,\n",
       "         3.69049064e-01,  3.30005884e-01, -2.02349759e-01,\n",
       "         3.65120033e-01, -1.85376194e-01, -5.08773515e-01,\n",
       "        -3.04252457e-01,  4.35327535e-01,  8.76997939e-01,\n",
       "         0.00000000e+00,  0.00000000e+00,  1.83505551e-01,\n",
       "        -1.12285409e-01,  2.58901299e-01, -1.14972626e-01,\n",
       "        -4.05143333e-01, -2.60309688e-01,  3.36958278e-01,\n",
       "         7.28859671e-01,  0.00000000e+00,  0.00000000e+00,\n",
       "        -5.28225101e-01, -1.53306238e-01, -5.56234350e-01,\n",
       "        -7.64119697e-01, -5.63481237e-01, -3.17183880e-01,\n",
       "         1.20130001e-01,  0.00000000e+00,  0.00000000e+00,\n",
       "        -5.88172392e-03, -2.69323946e-01, -5.13532788e-01,\n",
       "        -3.93322506e-01,  2.44445793e-01,  8.29984244e-01,\n",
       "         0.00000000e+00,  0.00000000e+00, -5.50530328e-01,\n",
       "        -7.27271258e-01, -5.84447776e-01, -3.32482964e-01,\n",
       "         2.17786175e-01,  0.00000000e+00,  0.00000000e+00,\n",
       "        -7.55693991e-01, -6.86441412e-01, -6.69438903e-01,\n",
       "        -2.29664044e-01,  0.00000000e+00,  0.00000000e+00,\n",
       "        -7.32120684e-01, -5.00972465e-01, -1.66806319e-02,\n",
       "         0.00000000e+00,  0.00000000e+00,  3.55548791e-01,\n",
       "         8.62006636e-01,  0.00000000e+00,  0.00000000e+00,\n",
       "         8.41394035e-01,  0.00000000e+00,  0.00000000e+00,\n",
       "         0.00000000e+00,  0.00000000e+00,  0.00000000e+00,\n",
       "         4.29919107e-01,  1.54800559e+00,  2.92670747e+00,\n",
       "         2.60767321e-01,  5.97822794e-01,  3.15063291e-01,\n",
       "        -2.18151939e-01, -7.93390425e-02,  6.86210703e-01,\n",
       "         1.85787553e+00,  0.00000000e+00,  0.00000000e+00,\n",
       "         2.00833869e+00,  2.60041557e+00,  1.92256158e-01,\n",
       "         1.30849639e+00,  2.87550161e-01, -3.94030376e-01,\n",
       "        -5.15173773e-02,  2.05405838e+00,  2.23743226e+00,\n",
       "         0.00000000e+00,  0.00000000e+00,  1.80928223e+00,\n",
       "         6.17257378e-01,  1.61563949e+00,  7.79998767e-01,\n",
       "        -2.20427360e-01,  1.32909710e-01,  3.19641841e+00,\n",
       "         2.51262429e+00,  0.00000000e+00,  0.00000000e+00,\n",
       "        -4.15404794e-01,  2.55361105e-01, -4.10513034e-01,\n",
       "        -7.13120676e-01, -4.58182712e-01, -1.40042432e-02,\n",
       "         5.73980874e-01,  0.00000000e+00,  0.00000000e+00,\n",
       "         2.18493193e-01,  3.60777651e-04, -3.97585023e-01,\n",
       "        -2.44082749e-01,  6.08948112e-01,  1.71474161e+00,\n",
       "         0.00000000e+00,  0.00000000e+00, -4.12204077e-01,\n",
       "        -7.00793866e-01, -4.92732178e-01,  2.44931650e-02,\n",
       "         8.46968779e-01,  0.00000000e+00,  0.00000000e+00,\n",
       "        -6.90296899e-01, -6.65866067e-01, -5.14855566e-01,\n",
       "         4.65890299e-02,  0.00000000e+00,  0.00000000e+00,\n",
       "        -6.50078608e-01, -3.13281160e-01,  3.08717605e-01,\n",
       "         0.00000000e+00,  0.00000000e+00,  8.85966891e-01,\n",
       "         1.70487754e+00,  0.00000000e+00,  0.00000000e+00,\n",
       "         1.48117822e+00,  0.00000000e+00,  0.00000000e+00,\n",
       "         0.00000000e+00,  0.00000000e+00,  0.00000000e+00,\n",
       "         4.73886369e-01,  5.00979608e-01, -1.76596714e-01,\n",
       "         4.94277642e-01, -1.61468247e-01, -5.16567441e-01,\n",
       "        -2.57710213e-01,  5.93217203e-01,  1.07136750e+00,\n",
       "         0.00000000e+00,  0.00000000e+00,  3.72127815e-01,\n",
       "        -4.53075237e-02,  4.59602962e-01, -4.89223959e-02,\n",
       "        -3.94514865e-01, -1.90489465e-01,  5.99219573e-01,\n",
       "         1.02916934e+00,  0.00000000e+00,  0.00000000e+00,\n",
       "        -5.24939611e-01, -1.19405919e-01, -5.42931140e-01,\n",
       "        -7.72844843e-01, -5.43277413e-01, -2.78933618e-01,\n",
       "         1.82070875e-01,  0.00000000e+00,  0.00000000e+00,\n",
       "         7.28227000e-02, -2.43063455e-01, -5.27929205e-01,\n",
       "        -3.54428159e-01,  4.08116727e-01,  1.06631237e+00,\n",
       "         0.00000000e+00,  0.00000000e+00, -5.34337335e-01,\n",
       "        -7.40046710e-01, -5.61888237e-01, -2.87181863e-01,\n",
       "         2.82902527e-01,  0.00000000e+00,  0.00000000e+00,\n",
       "        -8.30732864e-01, -7.20893813e-01, -6.98506378e-01,\n",
       "        -1.73820037e-01,  0.00000000e+00,  0.00000000e+00,\n",
       "        -7.16621281e-01, -4.47511188e-01,  8.04426930e-02,\n",
       "         0.00000000e+00,  0.00000000e+00,  6.80908088e-01,\n",
       "         1.11448479e+00,  0.00000000e+00,  0.00000000e+00,\n",
       "         1.03292307e+00,  0.00000000e+00,  0.00000000e+00,\n",
       "         0.00000000e+00,  0.00000000e+00,  0.00000000e+00,\n",
       "         1.74562552e-01, -8.81455787e-03,  2.68358409e-01,\n",
       "        -3.51470744e-02, -3.28642620e-01, -1.91613990e-01,\n",
       "         3.64826422e-01,  7.38178128e-01,  0.00000000e+00,\n",
       "         0.00000000e+00, -4.48543321e-01,  2.76576651e-02,\n",
       "        -4.51968043e-01, -6.72212321e-01, -4.81606859e-01,\n",
       "        -1.20362440e-01,  3.16876062e-01,  0.00000000e+00,\n",
       "         0.00000000e+00,  6.52010116e-02, -1.53221726e-01,\n",
       "        -4.24386161e-01, -2.92408525e-01,  3.47027089e-01,\n",
       "         8.98753407e-01,  0.00000000e+00,  0.00000000e+00,\n",
       "        -4.57115215e-01, -6.35328092e-01, -4.90155072e-01,\n",
       "        -1.41180152e-01,  3.78087220e-01,  0.00000000e+00,\n",
       "         0.00000000e+00, -6.65295780e-01, -5.86830172e-01,\n",
       "        -5.16522560e-01, -1.24492731e-01,  0.00000000e+00,\n",
       "         0.00000000e+00, -6.56885449e-01, -3.47894880e-01,\n",
       "         1.01851182e-01,  0.00000000e+00,  0.00000000e+00,\n",
       "         5.48947249e-01,  1.01637726e+00,  0.00000000e+00,\n",
       "         0.00000000e+00,  9.70196672e-01,  0.00000000e+00,\n",
       "         0.00000000e+00,  0.00000000e+00,  0.00000000e+00,\n",
       "         0.00000000e+00, -5.80473872e-01, -6.14043861e-01,\n",
       "        -6.54080028e-01, -7.70396107e-01, -6.09233449e-01,\n",
       "        -5.92417946e-01, -3.14616631e-01,  0.00000000e+00,\n",
       "         0.00000000e+00, -2.74133831e-01, -5.76972658e-01,\n",
       "        -7.90798346e-01, -6.20808959e-01, -3.33984228e-01,\n",
       "         4.01853380e-01,  0.00000000e+00,  0.00000000e+00,\n",
       "        -6.66816063e-01, -8.26073617e-01, -6.68517135e-01,\n",
       "        -6.49373234e-01, -2.47885854e-01,  0.00000000e+00,\n",
       "         0.00000000e+00, -9.49702901e-01, -8.02112061e-01,\n",
       "        -8.94564646e-01, -4.87984957e-01,  0.00000000e+00,\n",
       "         0.00000000e+00, -7.13988553e-01, -6.65487107e-01,\n",
       "        -2.98179037e-01,  0.00000000e+00,  0.00000000e+00,\n",
       "        -4.77557687e-01,  1.11047276e-01,  0.00000000e+00,\n",
       "         0.00000000e+00,  2.28585326e-01,  0.00000000e+00,\n",
       "         0.00000000e+00,  0.00000000e+00,  0.00000000e+00,\n",
       "         0.00000000e+00, -2.97167432e-01, -4.18613404e-01,\n",
       "        -5.28365287e-01, -4.66561625e-01, -1.62295275e-01,\n",
       "         5.25911347e-01,  0.00000000e+00,  0.00000000e+00,\n",
       "        -5.65272553e-01, -6.89212734e-01, -5.98713133e-01,\n",
       "        -4.25494947e-01,  2.38949235e-01,  0.00000000e+00,\n",
       "         0.00000000e+00, -6.84346960e-01, -6.38791543e-01,\n",
       "        -6.36278007e-01, -1.83546866e-01,  0.00000000e+00,\n",
       "         0.00000000e+00, -7.10533461e-01, -5.38511645e-01,\n",
       "         1.23569152e-02,  0.00000000e+00,  0.00000000e+00,\n",
       "         1.43184354e-02,  8.76659591e-01,  0.00000000e+00,\n",
       "         0.00000000e+00,  8.21988878e-01,  0.00000000e+00,\n",
       "         0.00000000e+00,  0.00000000e+00,  0.00000000e+00,\n",
       "         0.00000000e+00, -6.32715438e-01, -7.67160411e-01,\n",
       "        -6.66780552e-01, -6.48160378e-01, -2.16349858e-01,\n",
       "         0.00000000e+00,  0.00000000e+00, -8.61141529e-01,\n",
       "        -7.68881756e-01, -8.66829995e-01, -4.45658068e-01,\n",
       "         0.00000000e+00,  0.00000000e+00, -7.49599342e-01,\n",
       "        -7.19844957e-01, -2.62596824e-01,  0.00000000e+00,\n",
       "         0.00000000e+00, -5.74190278e-01,  2.24265815e-01,\n",
       "         0.00000000e+00,  0.00000000e+00,  3.14846323e-01,\n",
       "         0.00000000e+00,  0.00000000e+00,  0.00000000e+00,\n",
       "         0.00000000e+00,  0.00000000e+00, -7.54886968e-01,\n",
       "        -7.31625262e-01, -8.44423137e-01, -5.75404293e-01,\n",
       "         0.00000000e+00,  0.00000000e+00, -7.55335652e-01,\n",
       "        -8.08194656e-01, -4.58842618e-01,  0.00000000e+00,\n",
       "         0.00000000e+00, -8.65318047e-01, -2.70617451e-01,\n",
       "         0.00000000e+00,  0.00000000e+00, -1.09961652e-01,\n",
       "         0.00000000e+00,  0.00000000e+00,  0.00000000e+00,\n",
       "         0.00000000e+00,  0.00000000e+00, -8.08216938e-01,\n",
       "        -8.27192590e-01, -4.79621685e-01,  0.00000000e+00,\n",
       "         0.00000000e+00, -6.92666749e-01, -6.27333267e-02,\n",
       "         0.00000000e+00,  0.00000000e+00,  7.26949083e-02,\n",
       "         0.00000000e+00,  0.00000000e+00,  0.00000000e+00,\n",
       "         0.00000000e+00,  0.00000000e+00, -6.28692918e-01,\n",
       "         9.04652305e-01,  0.00000000e+00,  0.00000000e+00,\n",
       "         8.42686508e-01,  0.00000000e+00,  0.00000000e+00,\n",
       "         0.00000000e+00,  0.00000000e+00,  0.00000000e+00,\n",
       "         7.01571539e-01,  0.00000000e+00,  0.00000000e+00,\n",
       "         0.00000000e+00,  0.00000000e+00,  0.00000000e+00,\n",
       "         0.00000000e+00,  0.00000000e+00,  0.00000000e+00,\n",
       "         0.00000000e+00]])"
      ]
     },
     "execution_count": 107,
     "metadata": {},
     "output_type": "execute_result"
    }
   ],
   "source": [
    "scaler.transform(mySample.reshape(1,-1))"
   ]
  },
  {
   "cell_type": "code",
   "execution_count": 108,
   "metadata": {},
   "outputs": [
    {
     "data": {
      "text/plain": [
       "array([6.58513774e+10])"
      ]
     },
     "execution_count": 108,
     "metadata": {},
     "output_type": "execute_result"
    }
   ],
   "source": [
    "loaded_model.predict(mySample)"
   ]
  },
  {
   "cell_type": "markdown",
   "metadata": {
    "id": "G3dUEoJjj-AK"
   },
   "source": [
    "## Great work!\n",
    "----"
   ]
  }
 ],
 "metadata": {
  "anaconda-cloud": {},
  "colab": {
   "provenance": []
  },
  "kernelspec": {
   "display_name": "Python 3 (ipykernel)",
   "language": "python",
   "name": "python3"
  },
  "language_info": {
   "codemirror_mode": {
    "name": "ipython",
    "version": 3
   },
   "file_extension": ".py",
   "mimetype": "text/x-python",
   "name": "python",
   "nbconvert_exporter": "python",
   "pygments_lexer": "ipython3",
   "version": "3.9.7"
  }
 },
 "nbformat": 4,
 "nbformat_minor": 1
}
